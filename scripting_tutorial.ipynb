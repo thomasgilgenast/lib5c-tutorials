{
  "cells": [
    {
      "cell_type": "markdown",
      "source": [
        "Scripting tutorial\n",
        "==================\n",
        "\n",
        "This tutorial will walk you through how you might leverage the functions\n",
        "exposed in `lib5c` to write your own analysis scripts."
      ],
      "metadata": {
        "id": "asax89h2ZLLj",
        "colab_type": "text"
      }
    },
    {
      "cell_type": "markdown",
      "source": [
        "Follow along in Google colab\n",
        "-----------------\n",
        "\n",
        "You can run and modify the cells in this notebook tutorial live using Google colaboratory by clicking the link below:\n",
        "\n",
        "[![Open In Colab](https://colab.research.google.com/assets/colab-badge.svg)](https://colab.research.google.com/github/thomasgilgenast/lib5c-tutorials/blob/master/scripting-tutorial.ipynb)\n",
        "\nTo simply have all the cells run automatically, click `Runtime > Run all` in the colab toolbar."
      ],
      "metadata": {
        "id": "xJOZ3Ppkdtr4",
        "colab_type": "text"
      }
    },
    {
      "cell_type": "markdown",
      "source": [
        "Make sure `lib5c` is installed\n",
        "------------------------------\n",
        "\nInside a fresh virtual environment, run"
      ],
      "metadata": {
        "id": "IksoZVGkZT0V",
        "colab_type": "text"
      }
    },
    {
      "cell_type": "code",
      "source": [
        "!pip install lib5c"
      ],
      "outputs": [],
      "execution_count": null,
      "metadata": {
        "id": "jsWs0mafZF5r",
        "colab_type": "code",
        "colab": {
          "base_uri": "https://localhost:8080/",
          "height": 561
        },
        "outputId": "2045d125-cd9d-4b54-e9a3-aef4f8f4eb47"
      }
    },
    {
      "cell_type": "markdown",
      "source": [
        "Make a directory and get data\n",
        "-----------------------------\n",
        "\n",
        "If you haven't completed the [pipeline tutorial](pipeline_tutorial.ipynb) yet,\n",
        "make a directory for the tutorial:\n",
        "\n",
        "```\n",
        "$ mkdir lib5c-tutorial\n",
        "$ cd lib5c-tutorial\n",
        "```\n",
        "\n",
        "and prepare the example data in `lib5c-tutorial/input` as shown in the\n",
        "[pipeline tutorial](pipeline_tutorial.ipynb)."
      ],
      "metadata": {
        "id": "P2LL5d5RZYDY",
        "colab_type": "text"
      }
    },
    {
      "cell_type": "code",
      "source": [
        "!mkdir input\n",
        "!wget -qO- 'http://www.ncbi.nlm.nih.gov/geo/download/?acc=GSE68582&format=file&file=GSE68582%5FBED%5FES%2DNPC%2DiPS%2DLOCI%5Fmm9%2Ebed%2Egz' | gunzip -c > input/BED_ES-NPC-iPS-LOCI_mm9.bed\n",
        "!wget -qO- 'http://www.ncbi.nlm.nih.gov/geo/download/?acc=GSM1974095&format=file&file=GSM1974095%5Fv65%5FRep1%2Ecounts%2Etxt%2Egz' | gunzip -c > input/v65_Rep1.counts\n",
        "!wget -qO- 'http://www.ncbi.nlm.nih.gov/geo/download/?acc=GSM1974096&format=file&file=GSM1974096%5Fv65%5FRep2%2Ecounts%2Etxt%2Egz' | gunzip -c > input/v65_Rep2.counts\n",
        "!wget -qO- 'http://www.ncbi.nlm.nih.gov/geo/download/?acc=GSM1974099&format=file&file=GSM1974099%5FpNPC%5FRep1%2Ecounts%2Etxt%2Egz' | gunzip -c > input/pNPC_Rep1.counts\n",
        "!wget -qO- 'http://www.ncbi.nlm.nih.gov/geo/download/?acc=GSM1974100&format=file&file=GSM1974100%5FpNPC%5FRep2%2Ecounts%2Etxt%2Egz' | gunzip -c > input/pNPC_Rep2.counts\n",
        "!sed -i '/Sox2\\|Klf4/!d' input/BED_ES-NPC-iPS-LOCI_mm9.bed"
      ],
      "outputs": [],
      "execution_count": null,
      "metadata": {
        "id": "WFPurFIyZVg7",
        "colab_type": "code",
        "colab": {
          "base_uri": "https://localhost:8080/",
          "height": 34
        },
        "outputId": "f6fd0c4a-93f0-4b1e-ff8b-31d0a8bd72b6"
      }
    },
    {
      "cell_type": "markdown",
      "source": [
        "Note for Docker image users\n",
        "---------------------------\n",
        "\n",
        "If you are using `lib5c` from the Docker image, run\n",
        "\n",
        "    $ docker run -it -v <full path to lib5c-tutorial>:/lib5c-tutorial creminslab/lib5c:latest\n",
        "    root@<container_id>:/# cd /lib5c-tutorial\n",
        "\nand continue running all tutorial commands in this shell."
      ],
      "metadata": {
        "id": "juvkosb_Zji3",
        "colab_type": "text"
      }
    },
    {
      "cell_type": "markdown",
      "source": [
        "Start an interactive session\n",
        "----------------------------\n",
        "\n",
        "To quickly get used to calling the functions in `lib5c`, we recommend trying\n",
        "out the following code snippets in a Python interactive session, which we can\n",
        "start by running\n",
        "\n",
        "    $ python\n",
        "\n",
        "from inside the `lib5c-tutorial` directory.\n",
        "\n",
        "If you're following along in the IPython notebook, you're already in a Python interactive session and don't need to do anything.\n",
        "\n",
        "Of course, you're welcome to write scripts and execute them with commands like\n",
        "\n    $ python myscript.py"
      ],
      "metadata": {
        "id": "H5-Mo8FNZnUX",
        "colab_type": "text"
      }
    },
    {
      "cell_type": "markdown",
      "source": [
        "Basic parsing and writing\n",
        "-------------------------"
      ],
      "metadata": {
        "id": "WxXIvTJja_gX",
        "colab_type": "text"
      }
    },
    {
      "cell_type": "markdown",
      "source": [
        "### Parsing\n",
        "\n",
        "In order to perform any operation on our data, we need to load the data into\n",
        "memory first. Many functions for parsing various types of data are exposed in\n",
        "the [lib5c.parsers](lib5c.parsers.rst) subpackage. For this tutorial, we will use the\n",
        "following four parsers:\n",
        "\n",
        "* [lib5c.parsers.primers.load_primermap()](lib5c.parsers.primers.rst#lib5c.parsers.primers.load_primermap) for parsing bedfiles which\n",
        "  describe the genomic coordinates and context of the rows and columns of a\n",
        "  contact matrix into *primermaps*\n",
        "* [lib5c.parsers.counts.load_counts()](lib5c.parsers.counts.rst#lib5c.parsers.counts.load_counts) for parsing countsfiles into\n",
        "  *counts dicts* (dictionaries of contact matrices)\n",
        "\n",
        "For more detail on these data structures and file types, see the section on\n",
        "[Core data structures and file types](data_structures_file_types.rst)."
      ],
      "metadata": {
        "id": "BND_FntEbAaH",
        "colab_type": "text"
      }
    },
    {
      "cell_type": "markdown",
      "source": [
        "### Writing\n",
        "\n",
        "After we apply some operations to our data, we often want to save our results by\n",
        "writing data back to the disk. Many functions for writing various types of data\n",
        "to the disk are exposed in the [lib5c.writers](lib5c.writers.rst) subpackage. The writing\n",
        "functions that parallel the parsers listed above are:\n",
        "\n",
        "* [lib5c.writers.primers.write_primermap()](lib5c.writers.primers.rst#lib5c.writers.primers.write_primermap) for writing primer and bin\n",
        "  bedfiles\n",
        "* [lib5c.writers.counts.write_counts()](lib5c.writers.counts.rst#lib5c.writers.counts.write_counts) for writing countsfiles"
      ],
      "metadata": {
        "id": "jsEe430Tb5qf",
        "colab_type": "text"
      }
    },
    {
      "cell_type": "markdown",
      "source": [
        "Normalization\n",
        "-------------\n",
        "\n",
        "For our first script, we will apply the Knight-Ruiz algorithm to some of our\n",
        "data.\n",
        "\n",
        "First, we need to load information about the primers used in the 5C experiment.\n",
        "We need to do this before we parse the fragment-level raw countsfiles to make\n",
        "sure we parse them correctly."
      ],
      "metadata": {
        "id": "0q6SahtZca2d",
        "colab_type": "text"
      }
    },
    {
      "cell_type": "code",
      "source": [
        "from lib5c.parsers.primers import load_primermap\n",
        "primermap = load_primermap('input/BED_ES-NPC-iPS-LOCI_mm9.bed')"
      ],
      "outputs": [],
      "execution_count": null,
      "metadata": {
        "id": "L0CWpQZdZeVd",
        "colab_type": "code",
        "colab": {}
      }
    },
    {
      "cell_type": "markdown",
      "source": [
        "Now we can parse a countsfile into a counts dict."
      ],
      "metadata": {
        "id": "6QWzSUD2cfWK",
        "colab_type": "text"
      }
    },
    {
      "cell_type": "code",
      "source": [
        "from lib5c.parsers.counts import load_counts\n",
        "counts = load_counts('input/v65_Rep1.counts', primermap)"
      ],
      "outputs": [],
      "execution_count": null,
      "metadata": {
        "id": "-U1sKRC9cd9Q",
        "colab_type": "code",
        "colab": {}
      }
    },
    {
      "cell_type": "markdown",
      "source": [
        "Notice that we had to pass the `primermap` as an argument to\n",
        "[lib5c.parsers.counts.load_counts()](lib5c.parsers.counts.rst#lib5c.parsers.counts.load_counts).\n",
        "\n",
        "Before balancing the counts matrices, we should remove some low-quality primers\n",
        "which may impair the matrix balancing process. We actually want to do this on\n",
        "the basis of primer quality across all the replicates. To do this, we can\n",
        "leverage the exposed functions [lib5c.algorithms.trimming.trim_primers()](lib5c.algorithms.trimming.rst#lib5c.algorithms.trimming.trim_primers)\n",
        "and [lib5c.algorithms.trimming.trim_counts()](lib5c.algorithms.trimming.rst#lib5c.algorithms.trimming.trim_counts) to do"
      ],
      "metadata": {
        "id": "B_OQ8FMucqjM",
        "colab_type": "text"
      }
    },
    {
      "cell_type": "code",
      "source": [
        "from lib5c.algorithms.trimming import trim_primers, trim_counts\n",
        "reps = ['v65_Rep1', 'v65_Rep2', 'pNPC_Rep1', 'pNPC_Rep2']\n",
        "counts_superdict = {rep: load_counts('input/%s.counts' % rep, primermap) for rep in reps}\n",
        "trimmed_primermap, trimmed_indices = trim_primers(primermap, counts_superdict)\n",
        "trimmed_counts = trim_counts(counts, trimmed_indices)"
      ],
      "outputs": [],
      "execution_count": null,
      "metadata": {
        "id": "Q4pSL6Ogch96",
        "colab_type": "code",
        "colab": {}
      }
    },
    {
      "cell_type": "markdown",
      "source": [
        "For more details, consult the section on [Trimming](trimming.rst).\n",
        "\n",
        "Now we can balance the counts matrices. To do this, we will use the function\n",
        "[lib5c.algorithms.knight_ruiz.kr_balance_matrix()](lib5c.algorithms.knight_ruiz.rst#lib5c.algorithms.knight_ruiz.kr_balance_matrix). Most algorithms in\n",
        "`lib5c` live in the [lib5c.algorithms](lib5c.algorithms.rst) subpackage and expose some sort\n",
        "of convenience function. To learn more about the various convenience functions\n",
        "and APIs exposed in `lib5c`, consult the section on\n",
        "[API specification and conceptual documentation](conceptual.rst)\n",
        "\nGo ahead and import this function with"
      ],
      "metadata": {
        "id": "yncyvDPCdFJ5",
        "colab_type": "text"
      }
    },
    {
      "cell_type": "code",
      "source": [
        "from lib5c.algorithms.knight_ruiz import kr_balance_matrix"
      ],
      "outputs": [],
      "execution_count": null,
      "metadata": {
        "id": "E1R4vR_ydBw4",
        "colab_type": "code",
        "colab": {}
      }
    },
    {
      "cell_type": "markdown",
      "source": [
        "To balance the matrix for the Sox2 region, we can try"
      ],
      "metadata": {
        "id": "dGtAobHxde9I",
        "colab_type": "text"
      }
    },
    {
      "cell_type": "code",
      "source": [
        "kr_counts_Sox2, bias_Sox2, _ = kr_balance_matrix(trimmed_counts['Sox2'])"
      ],
      "outputs": [],
      "execution_count": null,
      "metadata": {
        "id": "0QUD8S34degd",
        "colab_type": "code",
        "colab": {}
      }
    },
    {
      "cell_type": "markdown",
      "source": [
        "To check how balanced the result is, we can immediately check"
      ],
      "metadata": {
        "id": "NgsUVqyVdiDN",
        "colab_type": "text"
      }
    },
    {
      "cell_type": "code",
      "source": [
        "import numpy as np\n",
        "row_sums = np.nansum(kr_counts_Sox2, axis=0)\n",
        "row_sums[:10]"
      ],
      "outputs": [],
      "execution_count": null,
      "metadata": {
        "id": "Uiv3Uhzodg_Z",
        "colab_type": "code",
        "colab": {
          "base_uri": "https://localhost:8080/",
          "height": 68
        },
        "outputId": "97a02578-304c-4d56-8958-ef03b18bab0e"
      }
    },
    {
      "cell_type": "code",
      "source": [
        "np.max(np.abs(np.mean(row_sums) - row_sums))"
      ],
      "outputs": [],
      "execution_count": null,
      "metadata": {
        "id": "MDFVKkGneGkw",
        "colab_type": "code",
        "colab": {
          "base_uri": "https://localhost:8080/",
          "height": 34
        },
        "outputId": "d034076e-0feb-4d82-e05f-550ef19fd5cc"
      }
    },
    {
      "cell_type": "markdown",
      "source": [
        "For more details on matrix balancing, consult the section on\n",
        "[Bias mitigation](bias_mitigation.rst)."
      ],
      "metadata": {
        "id": "b7SC9Qkgdo-S",
        "colab_type": "text"
      }
    },
    {
      "cell_type": "markdown",
      "source": [
        "### Analyzing multiple regions in parallel\n",
        "\n",
        "Most of the convenience functions exposed in `lib5c` are decorated with a\n",
        "special decorator, `@parallelize_regions`, that parallelizes their operation\n",
        "across the regions of a counts dict. For more information on this decorator, see\n",
        "the section on [Parallelization across regions](parallelization_across_regions.rst).\n",
        "\n",
        "For the purposes of this tutorial, all this means is that we can try something\n",
        "like"
      ],
      "metadata": {
        "id": "5_hcyzFFdwNi",
        "colab_type": "text"
      }
    },
    {
      "cell_type": "code",
      "source": [
        "kr_counts, bias_vectors, _ = kr_balance_matrix(trimmed_counts)"
      ],
      "outputs": [],
      "execution_count": null,
      "metadata": {
        "id": "oKfZVi3edj1d",
        "colab_type": "code",
        "colab": {}
      }
    },
    {
      "cell_type": "markdown",
      "source": [
        "to balance all the matrices in the counts dict. To check how balanced one of the\n",
        "matrices is, we can check"
      ],
      "metadata": {
        "id": "9qzKAp-fd9HO",
        "colab_type": "text"
      }
    },
    {
      "cell_type": "code",
      "source": [
        "row_sums = np.nansum(kr_counts['Klf4'], axis=0)\n",
        "row_sums[:10]"
      ],
      "outputs": [],
      "execution_count": null,
      "metadata": {
        "id": "Csblg0swd753",
        "colab_type": "code",
        "colab": {
          "base_uri": "https://localhost:8080/",
          "height": 68
        },
        "outputId": "189071fa-dfa7-4183-e366-a66ce7ed725a"
      }
    },
    {
      "cell_type": "code",
      "source": [
        "np.max(np.abs(np.mean(row_sums) - row_sums))"
      ],
      "outputs": [],
      "execution_count": null,
      "metadata": {
        "id": "2CP77X-dd_1J",
        "colab_type": "code",
        "colab": {
          "base_uri": "https://localhost:8080/",
          "height": 34
        },
        "outputId": "64cb9e89-5e87-4b1e-c3c0-462405c7f414"
      }
    },
    {
      "cell_type": "markdown",
      "source": [
        "Notice that the returned object `kr_counts` is a dict indexed by region name,\n",
        "just like the input argument `counts`.\n",
        "\nFinally, we can save the results of our processing with something like"
      ],
      "metadata": {
        "id": "t8dQ-xySebTC",
        "colab_type": "text"
      }
    },
    {
      "cell_type": "code",
      "source": [
        "from lib5c.writers.counts import write_counts\n",
        "write_counts(kr_counts, 'scripting/v65_Rep1_kr.counts', trimmed_primermap)"
      ],
      "outputs": [],
      "execution_count": null,
      "metadata": {
        "id": "GmoxaH9veZBm",
        "colab_type": "code",
        "colab": {
          "base_uri": "https://localhost:8080/",
          "height": 34
        },
        "outputId": "6dd92f5f-dc2a-4b62-9c34-08a2034631bc"
      }
    },
    {
      "cell_type": "markdown",
      "source": [
        "We should save our trimmed primer set as well so that we don't have to redo the\n",
        "trimming step every time we load this data."
      ],
      "metadata": {
        "id": "l_29R4oAegRf",
        "colab_type": "text"
      }
    },
    {
      "cell_type": "code",
      "source": [
        "from lib5c.writers.primers import write_primermap\n",
        "write_primermap(trimmed_primermap, 'scripting/primers_trimmed.bed')"
      ],
      "outputs": [],
      "execution_count": null,
      "metadata": {
        "id": "ALl6M1e4eekt",
        "colab_type": "code",
        "colab": {}
      }
    },
    {
      "cell_type": "markdown",
      "source": [
        "Binning\n",
        "-------\n",
        "\n",
        "If you closed out of the previous session, you'll need to read back in the data\n",
        "we were working with. Try"
      ],
      "metadata": {
        "id": "elCceRzFekJL",
        "colab_type": "text"
      }
    },
    {
      "cell_type": "code",
      "source": [
        "from lib5c.parsers.primers import load_primermap\n",
        "primermap = load_primermap('scripting/primers_trimmed.bed')\n",
        "from lib5c.parsers.counts import load_counts\n",
        "kr_counts = load_counts('scripting/v65_Rep1_kr.counts', primermap)"
      ],
      "outputs": [],
      "execution_count": null,
      "metadata": {
        "id": "zOX_ybvxeh4a",
        "colab_type": "code",
        "colab": {}
      }
    },
    {
      "cell_type": "markdown",
      "source": [
        "Ultimately, we will want to use the exposed convenience function\n",
        "[lib5c.algorithms.filtering.fragment_bin_filtering.fragment_bin_filter()](lib5c.algorithms.filtering.fragment_bin_filtering.rst#lib5c.algorithms.filtering.fragment_bin_filtering.fragment_bin_filter).\n",
        "According to the docstring, it looks like we will need a `pixelmap` and a\n",
        "`filter_function` in addition to our `counts` dict.\n",
        "\n",
        "The `pixelmap` represents where our bins should be. To generate one, we will\n",
        "use the exposed convenience function\n",
        "[lib5c.algorithms.determine_bins.determine_regional_bins()](lib5c.algorithms.determine_bins.rst#lib5c.algorithms.determine_bins.determine_regional_bins), which can be\n",
        "used to do something like\n"
      ],
      "metadata": {
        "id": "2Wgdwwy2eoE-",
        "colab_type": "text"
      }
    },
    {
      "cell_type": "code",
      "source": [
        "from lib5c.algorithms.determine_bins import determine_regional_bins\n",
        "pixelmap = determine_regional_bins(primermap, 4000, region_name={region: region for region in primermap.keys()})"
      ],
      "outputs": [],
      "execution_count": null,
      "metadata": {
        "id": "oTPrLDJQel7x",
        "colab_type": "code",
        "colab": {}
      }
    },
    {
      "cell_type": "markdown",
      "source": [
        "The `filter_function` represents the filtering function to be passed over the\n",
        "counts matrices in order to determine the value in each bin. To construct one,\n",
        "we can use the exposed convenience function\n",
        "[lib5c.algorithms.filtering.filter_functions.make_filter_function()](lib5c.algorithms.filtering.filter_functions.rst#lib5c.algorithms.filtering.filter_functions.make_filter_function), which\n",
        "can be used to do something like"
      ],
      "metadata": {
        "id": "NjtUXQsOfLq3",
        "colab_type": "text"
      }
    },
    {
      "cell_type": "code",
      "source": [
        "from lib5c.algorithms.filtering.filter_functions import make_filter_function\n",
        "filter_function = make_filter_function()"
      ],
      "outputs": [],
      "execution_count": null,
      "metadata": {
        "id": "bagxpThCfJvF",
        "colab_type": "code",
        "colab": {}
      }
    },
    {
      "cell_type": "markdown",
      "source": [
        "Finally, we can bin our counts with a 20 kb window radius by trying"
      ],
      "metadata": {
        "id": "oJWxd-MKfZYG",
        "colab_type": "text"
      }
    },
    {
      "cell_type": "code",
      "source": [
        "from lib5c.algorithms.filtering.fragment_bin_filtering import fragment_bin_filter\n",
        "binned_counts = fragment_bin_filter(kr_counts, filter_function, pixelmap, primermap, 20000)"
      ],
      "outputs": [],
      "execution_count": null,
      "metadata": {
        "id": "XGFzVXZOfX7d",
        "colab_type": "code",
        "colab": {}
      }
    },
    {
      "cell_type": "markdown",
      "source": [
        "To save these counts to disk, we can run"
      ],
      "metadata": {
        "id": "Akgr1lidfeAk",
        "colab_type": "text"
      }
    },
    {
      "cell_type": "code",
      "source": [
        "from lib5c.writers.counts import write_counts\n",
        "write_counts(binned_counts, 'scripting/v65_Rep1_binned.counts', pixelmap)"
      ],
      "outputs": [],
      "execution_count": null,
      "metadata": {
        "id": "s-64rfrufbdc",
        "colab_type": "code",
        "colab": {}
      }
    },
    {
      "cell_type": "markdown",
      "source": [
        "We can also write the pixelmap we created to the disk as a bin bedfile by trying"
      ],
      "metadata": {
        "id": "FaP8-y1pfg4g",
        "colab_type": "text"
      }
    },
    {
      "cell_type": "code",
      "source": [
        "from lib5c.writers.primers import write_primermap\n",
        "write_primermap(pixelmap, 'scripting/4kb_bins.bed')"
      ],
      "outputs": [],
      "execution_count": null,
      "metadata": {
        "id": "KuJsIR_JffwZ",
        "colab_type": "code",
        "colab": {}
      }
    },
    {
      "cell_type": "markdown",
      "source": [
        "For more information about the filtering/binning/smoothing API, see the section\n",
        "on [Binning and smoothing](binning_and_smoothing.rst)."
      ],
      "metadata": {
        "id": "YtX_uXqPfj1x",
        "colab_type": "text"
      }
    },
    {
      "cell_type": "markdown",
      "source": [
        "Plotting heatmaps\n",
        "-----------------\n",
        "\n",
        "If you closed out of the previous session, you'll need to read back in the data\n",
        "we were working with. Try"
      ],
      "metadata": {
        "id": "5dwO1yn9frJz",
        "colab_type": "text"
      }
    },
    {
      "cell_type": "code",
      "source": [
        "from lib5c.parsers.primers import load_primermap\n",
        "pixelmap = load_primermap('scripting/4kb_bins.bed')\n",
        "from lib5c.parsers.counts import load_counts\n",
        "binned_counts = load_counts('scripting/v65_Rep1_binned.counts', pixelmap)"
      ],
      "outputs": [],
      "execution_count": null,
      "metadata": {
        "id": "EHIXuQJefiaj",
        "colab_type": "code",
        "colab": {}
      }
    },
    {
      "cell_type": "markdown",
      "source": [
        "To visualize our binned matrices, we can use the exposed function\n",
        "[lib5c.plotters.heatmap.plot_heatmap()](lib5c.plotters.heatmap.rst#lib5c.plotters.heatmap.plot_heatmap).\n",
        "\n",
        "Before we start, it's a good idea to transform the counts values to a log scale\n",
        "for easier visualization"
      ],
      "metadata": {
        "id": "fgj5XSTlfuwP",
        "colab_type": "text"
      }
    },
    {
      "cell_type": "code",
      "source": [
        "import numpy as np\n",
        "logged_counts = {region: np.log(binned_counts[region] + 1) for region in binned_counts.keys()}"
      ],
      "outputs": [],
      "execution_count": null,
      "metadata": {
        "id": "LAdnDPLBftgT",
        "colab_type": "code",
        "colab": {}
      }
    },
    {
      "cell_type": "markdown",
      "source": [
        "First, we need to import the plotting function with"
      ],
      "metadata": {
        "id": "OcHxq84Gf5Ky",
        "colab_type": "text"
      }
    },
    {
      "cell_type": "code",
      "source": [
        "from lib5c.plotters.heatmap import plot_heatmap"
      ],
      "outputs": [],
      "execution_count": null,
      "metadata": {
        "id": "RoTFb9JPf286",
        "colab_type": "code",
        "colab": {}
      }
    },
    {
      "cell_type": "markdown",
      "source": [
        "We can draw the heatmap for just one region with"
      ],
      "metadata": {
        "id": "PAzrlLx7f7uM",
        "colab_type": "text"
      }
    },
    {
      "cell_type": "code",
      "source": [
        "%matplotlib notebook\n",
        "plot_heatmap(logged_counts['Sox2'], grange_x=pixelmap['Sox2'], rulers=True, genes='mm9', colorscale=(1.0, 6.0), colorbar=True, outfile='scripting/v65_Rep1_binned_Sox2.png')"
      ],
      "outputs": [],
      "execution_count": null,
      "metadata": {
        "id": "KX1xsgTmf6dd",
        "colab_type": "code",
        "colab": {
          "base_uri": "https://localhost:8080/",
          "height": 17
        },
        "outputId": "3ec06aa3-1d0a-4011-d0ea-7b051aad9c2f"
      }
    },
    {
      "cell_type": "markdown",
      "source": [
        "The resulting image should look something like this:"
      ],
      "metadata": {
        "id": "ixgxB5QKf_Xx",
        "colab_type": "text"
      }
    },
    {
      "cell_type": "code",
      "source": [
        "from IPython.display import Image\n",
        "Image(filename='scripting/v65_Rep1_binned_Sox2.png', width=500)"
      ],
      "outputs": [],
      "execution_count": null,
      "metadata": {
        "id": "YD0mx4B8f-Fw",
        "colab_type": "code",
        "colab": {
          "base_uri": "https://localhost:8080/",
          "height": 468
        },
        "outputId": "368ce8dc-b254-4330-e26f-6874e995b164"
      }
    },
    {
      "cell_type": "markdown",
      "source": [
        "Because [plot_heatmap()](lib5c.plotters.heatmap.rst#lib5c.plotters.heatmap.plot_heatmap) is parallelized with the `@parallelize_regions`\n",
        "decorator, we can draw the heatmaps for all regions at once by simply calling"
      ],
      "metadata": {
        "id": "BlboX79bhIXU",
        "colab_type": "text"
      }
    },
    {
      "cell_type": "code",
      "source": [
        "%matplotlib notebook\n",
        "outfile_names = {region: 'scripting/v65_Rep1_binned_%s.png' % region for region in binned_counts.keys()}\n",
        "plot_heatmap(logged_counts, grange_x=pixelmap, rulers=True, genes='mm9', colorscale=(1.0, 6.0), colorbar=True, outfile=outfile_names)"
      ],
      "outputs": [],
      "execution_count": null,
      "metadata": {
        "id": "RrCspUjtg8Ys",
        "colab_type": "code",
        "colab": {
          "base_uri": "https://localhost:8080/",
          "height": 52
        },
        "outputId": "92717bb9-ac84-43d9-cd53-de460514ad1f"
      }
    },
    {
      "cell_type": "markdown",
      "source": [
        "where we precompute a dict of output filenames (parallel to `counts_binned`)\n",
        "to describe where each region's heatmap will get drawn (since each region will\n",
        "be drawn to a separate heatmap). In this way, any argument to a parallelized\n",
        "function can be replaced by a dict whose keys match the keys of the first\n",
        "positional argument (which is usually a counts dict).\n",
        "\nYou can show the plot directly inline in a notebook environment by skipping the `outfile` kwarg:"
      ],
      "metadata": {
        "id": "-EWdyxzphXdJ",
        "colab_type": "text"
      }
    },
    {
      "cell_type": "code",
      "source": [
        "%matplotlib inline\n",
        "plot_heatmap(logged_counts['Sox2'], grange_x=pixelmap['Sox2'], rulers=True, genes='mm9', colorscale=(1.0, 6.0), colorbar=True)"
      ],
      "outputs": [],
      "execution_count": null,
      "metadata": {
        "id": "DjwedWLZpQrJ",
        "colab_type": "code",
        "colab": {
          "base_uri": "https://localhost:8080/",
          "height": 324
        },
        "outputId": "174096e5-a08d-4f63-e056-576f4482990f"
      }
    },
    {
      "cell_type": "markdown",
      "source": [
        "Expected modeling\n",
        "-----------------\n",
        "\n",
        "The exposed convenience function for making an expected model is\n",
        "[lib5c.algorithms.expected.make_expected_matrix()](lib5c.algorithms.expected.rst#lib5c.algorithms.expected.make_expected_matrix).\n",
        "\n",
        "To construct an expected model for each region using a simple power law\n",
        "relationship and apply donut correction in the same step, we can try"
      ],
      "metadata": {
        "id": "MiVt6eXnhbLl",
        "colab_type": "text"
      }
    },
    {
      "cell_type": "code",
      "source": [
        "from lib5c.algorithms.expected import make_expected_matrix\n",
        "exp_counts, dist_exp, _ = make_expected_matrix(binned_counts, regression=True, exclude_near_diagonal=True, donut=True)"
      ],
      "outputs": [],
      "execution_count": null,
      "metadata": {
        "id": "ptUg_vqJhRWr",
        "colab_type": "code",
        "colab": {
          "base_uri": "https://localhost:8080/",
          "height": 87
        },
        "outputId": "0ea1c356-3703-4972-f15a-e2a401dd11d4"
      }
    },
    {
      "cell_type": "markdown",
      "source": [
        "The first returned value, `counts_exp`, is simply a dict of the expected\n",
        "matrices representing the model. The second returned value, `dist_exp`, is a\n",
        "representation of the simple one-dimensional expected model.\n",
        "\n",
        "We can visualize the one-dimensional expected model using\n",
        "[lib5c.plotters.expected.plot_bin_expected()](lib5c.plotters.expected.rst#lib5c.plotters.expected.plot_bin_expected)."
      ],
      "metadata": {
        "id": "USNzcTOmhtwi",
        "colab_type": "text"
      }
    },
    {
      "cell_type": "code",
      "source": [
        "%matplotlib notebook\n",
        "from lib5c.plotters.expected import plot_bin_expected\n",
        "plot_bin_expected(binned_counts['Sox2'], dist_exp['Sox2'], outfile='scripting/v65_Rep1_expected_model_Sox2.png', hexbin=True, semilog=True, xlabel='distance')"
      ],
      "outputs": [],
      "execution_count": null,
      "metadata": {
        "id": "M-TZxowYhq_8",
        "colab_type": "code",
        "colab": {
          "base_uri": "https://localhost:8080/",
          "height": 35
        },
        "outputId": "1138b9d8-b17b-4dbe-97f5-1b4ffbab7aac"
      }
    },
    {
      "cell_type": "markdown",
      "source": [
        "or for all regions at once,"
      ],
      "metadata": {
        "id": "YsX6FspkpqBf",
        "colab_type": "text"
      }
    },
    {
      "cell_type": "code",
      "source": [
        "%matplotlib notebook\n",
        "from lib5c.plotters.expected import plot_bin_expected\n",
        "outfile_names = {region: 'scripting/v65_Rep1_expected_model_%s.png' % region for region in binned_counts.keys()}\n",
        "plot_bin_expected(binned_counts, dist_exp, outfile=outfile_names, hexbin=True, semilog=True, xlabel='distance')"
      ],
      "outputs": [],
      "execution_count": null,
      "metadata": {
        "id": "FXhnaLtmh5Lu",
        "colab_type": "code",
        "colab": {
          "base_uri": "https://localhost:8080/",
          "height": 52
        },
        "outputId": "68a958cc-4835-40ce-9617-abc038953680"
      }
    },
    {
      "cell_type": "markdown",
      "source": [
        "The kwargs `hexbin`, `semilog`, and `ylabel` tweak the visual appearance\n",
        "of the resulting plot.\n",
        "\nThe resulting images should look something like this:"
      ],
      "metadata": {
        "id": "rpMDoD1Wp1Ws",
        "colab_type": "text"
      }
    },
    {
      "cell_type": "code",
      "source": [
        "Image(filename='scripting/v65_Rep1_expected_model_Sox2.png', width=500)"
      ],
      "outputs": [],
      "execution_count": null,
      "metadata": {
        "id": "tYXfxXwhpwnj",
        "colab_type": "code",
        "colab": {
          "base_uri": "https://localhost:8080/",
          "height": 386
        },
        "outputId": "f360cfa1-c74d-4f76-c7ec-042f6df0810b"
      }
    },
    {
      "cell_type": "markdown",
      "source": [
        "To learn more, consult the section on [Expected modeling](expected_modeling.rst)."
      ],
      "metadata": {
        "id": "Jtb-Of0zp70_",
        "colab_type": "text"
      }
    },
    {
      "cell_type": "markdown",
      "source": [
        "Variance modeling\n",
        "-----------------\n",
        "\n",
        "The exposed convenience functions for variance modeling is\n",
        "[lib5c.algorithms.variance.estimate_variance()](lib5c.algorithms.variance.estimate_variance.rst#lib5c.algorithms.variance.estimate_variance.estimate_variance).\n",
        "\nWe can get variance estimates from a log-normal, deviation-based distance-variance relationship model by trying"
      ],
      "metadata": {
        "id": "rJ_RJe2dqOiP",
        "colab_type": "text"
      }
    },
    {
      "cell_type": "code",
      "source": [
        "from lib5c.algorithms.variance import estimate_variance\n",
        "var_counts = estimate_variance(binned_counts, exp_counts)"
      ],
      "outputs": [],
      "execution_count": null,
      "metadata": {
        "id": "nNmVhVLVqsoA",
        "colab_type": "code",
        "colab": {}
      }
    },
    {
      "cell_type": "markdown",
      "source": [
        "To learn more, consult the section on [Variance modeling](variance_modeling.rst)."
      ],
      "metadata": {
        "id": "hJ-0WuQ8qwQG",
        "colab_type": "text"
      }
    },
    {
      "cell_type": "markdown",
      "source": [
        "P-value calling\n",
        "---------------\n",
        "\n",
        "The exposed convenience function for calling p-values using distributions\n",
        "parametrized according to the expected and variance models is\n",
        "[lib5c.util.distributions.call_pvalues()](lib5c.util.distributions.rst#lib5c.util.distributions.call_pvalues).\n",
        "\nTo simply call the p-values using a log-normal distribution, we can try"
      ],
      "metadata": {
        "id": "8n9VxxfPq7ZY",
        "colab_type": "text"
      }
    },
    {
      "cell_type": "code",
      "source": [
        "from lib5c.util.distributions import call_pvalues\n",
        "from lib5c.util.counts import parallel_log_counts\n",
        "pvalues = call_pvalues(parallel_log_counts(binned_counts), exp_counts, var_counts, 'norm', log=True)"
      ],
      "outputs": [],
      "execution_count": null,
      "metadata": {
        "id": "K45XND0iqtlC",
        "colab_type": "code",
        "colab": {}
      }
    },
    {
      "cell_type": "markdown",
      "source": [
        "Where we are logging the observed counts and comparing them to a normal distribution. \n",
        "\n",
        "We can visualize these called p-values as interaction scores\n",
        "(`-10*log2(pvalue)`) on heatmaps by calling"
      ],
      "metadata": {
        "id": "7qsRcm-CrXa5",
        "colab_type": "text"
      }
    },
    {
      "cell_type": "code",
      "source": [
        "%matplotlib notebook\n",
        "from lib5c.plotters.heatmap import plot_heatmap\n",
        "from lib5c.util.counts import convert_pvalues_to_interaction_scores\n",
        "outfile_names = {region: 'scripting/v65_Rep1_is_%s.png' % region for region in pvalues.keys()}\n",
        "interaction_scores = convert_pvalues_to_interaction_scores(pvalues)\n",
        "plot_heatmap(interaction_scores, grange_x=pixelmap, rulers=True, genes='mm9', colorscale=(0, 200), colorbar=True, colormap='is', outfile=outfile_names)"
      ],
      "outputs": [],
      "execution_count": null,
      "metadata": {
        "id": "QEjZ8NWnrlN5",
        "colab_type": "code",
        "colab": {
          "base_uri": "https://localhost:8080/",
          "height": 52
        },
        "outputId": "8af9d2c4-8f1d-4db3-b1a8-3ec6efbba075"
      }
    },
    {
      "cell_type": "markdown",
      "source": [
        "and write them to the disk by calling"
      ],
      "metadata": {
        "id": "4iVobZIErkfJ",
        "colab_type": "text"
      }
    },
    {
      "cell_type": "code",
      "source": [
        "from lib5c.writers.counts import write_counts\n",
        "write_counts(pvalues, 'scripting/v65_Rep1_pvalues.counts', pixelmap)"
      ],
      "outputs": [],
      "execution_count": null,
      "metadata": {
        "id": "63puFaUpsWlE",
        "colab_type": "code",
        "colab": {}
      }
    },
    {
      "cell_type": "markdown",
      "source": [
        "The resulting images should look something like this"
      ],
      "metadata": {
        "id": "HtwKld1AsarD",
        "colab_type": "text"
      }
    },
    {
      "cell_type": "code",
      "source": [
        "Image(filename='scripting/v65_Rep1_is_Sox2.png', width=500)"
      ],
      "outputs": [],
      "execution_count": null,
      "metadata": {
        "id": "Eewlm9mmsYk4",
        "colab_type": "code",
        "colab": {
          "base_uri": "https://localhost:8080/",
          "height": 450
        },
        "outputId": "1203f6bb-f07f-4a46-8dda-842340213868"
      }
    },
    {
      "cell_type": "markdown",
      "source": [
        "For more information on the distribution fitting and p-value calling API, see\n",
        "the section on [Distribution fitting](distributions.rst)."
      ],
      "metadata": {
        "id": "4UKW_uuzs4LX",
        "colab_type": "text"
      }
    },
    {
      "cell_type": "markdown",
      "source": [
        "Next steps\n",
        "----------\n",
        "\n",
        "This tutorial shows only a few of the functions exposed in the `lib5c` API.\n",
        "You can read more about what you can do with `lib5c` in the section on\n",
        "[API specification and conceptual documentation](conceptual.rst)."
      ],
      "metadata": {
        "id": "fVeaLINEtAMO",
        "colab_type": "text"
      }
    }
  ],
  "metadata": {
    "colab": {
      "name": "scripting_tutorial.ipynb",
      "version": "0.3.2",
      "provenance": [],
      "collapsed_sections": [
        "fVeaLINEtAMO"
      ]
    },
    "kernelspec": {
      "name": "python2",
      "language": "python",
      "display_name": "Python 2"
    },
    "kernel_info": {
      "name": "python2"
    },
    "language_info": {
      "mimetype": "text/x-python",
      "nbconvert_exporter": "python",
      "name": "python",
      "pygments_lexer": "ipython2",
      "version": "2.7.12",
      "file_extension": ".py",
      "codemirror_mode": {
        "version": 2,
        "name": "ipython"
      }
    },
    "nteract": {
      "version": "0.11.9"
    }
  },
  "nbformat": 4,
  "nbformat_minor": 0
}