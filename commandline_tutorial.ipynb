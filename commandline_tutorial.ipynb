{
 "cells": [
  {
   "cell_type": "markdown",
   "metadata": {
    "colab_type": "text",
    "id": "czq_NDhQQ1WI"
   },
   "source": [
    "Command line tutorial\n",
    "=====================\n",
    "\n",
    "This tutorial will walk you through the usage of the ``lib5c`` command-line\n",
    "tools."
   ]
  },
  {
   "cell_type": "markdown",
   "metadata": {
    "colab_type": "text",
    "id": "qkuDJ5ewg-cQ"
   },
   "source": [
    "Follow along in Google colab\n",
    "-----------------\n",
    "\n",
    "You can run and modify the cells in this notebook tutorial live using Google colaboratory by clicking the link below:\n",
    "\n",
    "[![Open In Colab](https://colab.research.google.com/assets/colab-badge.svg)](https://colab.research.google.com/github/thomasgilgenast/lib5c-tutorials/blob/master/commandline_tutorial.ipynb)\n",
    "\n",
    "To simply have all the cells run automatically, click `Runtime > Run all` in the colab toolbar."
   ]
  },
  {
   "cell_type": "markdown",
   "metadata": {
    "colab_type": "text",
    "id": "I5IDf7zRQact"
   },
   "source": [
    "Make sure `lib5c` is installed\n",
    "------------------------------\n",
    "\n",
    "Inside a fresh virtual environment, run"
   ]
  },
  {
   "cell_type": "code",
   "execution_count": null,
   "metadata": {
    "colab": {
     "base_uri": "https://localhost:8080/",
     "height": 1088
    },
    "colab_type": "code",
    "id": "FRBRPr68QQG5",
    "outputId": "ed8f15cb-805a-45af-9179-0a7275143f8c"
   },
   "outputs": [],
   "source": [
    "!pip install -q lib5c\n",
    "!lib5c -v"
   ]
  },
  {
   "cell_type": "markdown",
   "metadata": {
    "colab_type": "text",
    "id": "w8UPgHWrQ6PA"
   },
   "source": [
    "Make a directory and get data\n",
    "-----------------------------\n",
    "\n",
    "If you haven't completed the [pipeline tutorial](pipeline_tutorial.ipynb) yet,\n",
    "make a directory for the tutorial:\n",
    "\n",
    "```\n",
    "$ mkdir lib5c-tutorial\n",
    "$ cd lib5c-tutorial\n",
    "```\n",
    "\n",
    "and prepare the example data in `lib5c-tutorial/input` as shown in the\n",
    "[pipeline tutorial](pipeline_tutorial.ipynb)."
   ]
  },
  {
   "cell_type": "code",
   "execution_count": null,
   "metadata": {
    "colab": {},
    "colab_type": "code",
    "id": "NybQQVz4RpvO"
   },
   "outputs": [],
   "source": [
    "!mkdir -p input\n",
    "!wget -qO- 'http://www.ncbi.nlm.nih.gov/geo/download/?acc=GSE68582&format=file&file=GSE68582%5FBED%5FES%2DNPC%2DiPS%2DLOCI%5Fmm9%2Ebed%2Egz' \\\n",
    "    | gunzip -c > input/BED_ES-NPC-iPS-LOCI_mm9.bed\n",
    "!wget -qO- 'http://www.ncbi.nlm.nih.gov/geo/download/?acc=GSM1974095&format=file&file=GSM1974095%5Fv65%5FRep1%2Ecounts%2Etxt%2Egz' \\\n",
    "    | gunzip -c > input/v65_Rep1.counts\n",
    "!wget -qO- 'http://www.ncbi.nlm.nih.gov/geo/download/?acc=GSM1974096&format=file&file=GSM1974096%5Fv65%5FRep2%2Ecounts%2Etxt%2Egz' \\\n",
    "    | gunzip -c > input/v65_Rep2.counts\n",
    "!wget -qO- 'http://www.ncbi.nlm.nih.gov/geo/download/?acc=GSM1974099&format=file&file=GSM1974099%5FpNPC%5FRep1%2Ecounts%2Etxt%2Egz' \\\n",
    "    | gunzip -c > input/pNPC_Rep1.counts\n",
    "!wget -qO- 'http://www.ncbi.nlm.nih.gov/geo/download/?acc=GSM1974100&format=file&file=GSM1974100%5FpNPC%5FRep2%2Ecounts%2Etxt%2Egz' \\\n",
    "    | gunzip -c > input/pNPC_Rep2.counts\n",
    "!sed -i '/Sox2\\|Klf4/!d' input/BED_ES-NPC-iPS-LOCI_mm9.bed"
   ]
  },
  {
   "cell_type": "markdown",
   "metadata": {
    "colab_type": "text",
    "id": "Y4lRc5wdRxi3"
   },
   "source": [
    "Note for Docker image users\n",
    "---------------------------\n",
    "\n",
    "If you are using `lib5c` from the Docker image, run:\n",
    "\n",
    "    $ docker run -it -v <full path to lib5c-tutorial>:/lib5c-tutorial creminslab/lib5c:latest\n",
    "    root@<container_id>:/# cd /lib5c-tutorial\n",
    "\n",
    "and continue running all tutorial commands in this shell."
   ]
  },
  {
   "cell_type": "markdown",
   "metadata": {
    "colab_type": "text",
    "id": "XVJZoWkCV233"
   },
   "source": [
    "Trimming low-quality primers\n",
    "----------------------------\n",
    "\n",
    "We will first trim away low-quality primers by running"
   ]
  },
  {
   "cell_type": "code",
   "execution_count": null,
   "metadata": {
    "colab": {
     "base_uri": "https://localhost:8080/",
     "height": 34
    },
    "colab_type": "code",
    "id": "byiHjyRjV7Bx",
    "outputId": "f556ff5c-39e1-4063-a3f4-86a02baa9e3a"
   },
   "outputs": [],
   "source": [
    "!lib5c trim -p input/BED_ES-NPC-iPS-LOCI_mm9.bed -t trimmed/%s.counts trimmed/primers_trimmed.bed 'input/*.counts'"
   ]
  },
  {
   "cell_type": "markdown",
   "metadata": {
    "colab_type": "text",
    "id": "T7vs-MDMSJ9r"
   },
   "source": [
    "Normalization\n",
    "-------------\n",
    "\n",
    "For this tutorial, we will first use Knight-Ruiz matrix balancing to correct our\n",
    "data for primer effects by running"
   ]
  },
  {
   "cell_type": "code",
   "execution_count": null,
   "metadata": {
    "colab": {
     "base_uri": "https://localhost:8080/",
     "height": 68
    },
    "colab_type": "code",
    "id": "jAU8pCOQSNDI",
    "outputId": "14480757-69c8-4b8e-a41b-bd78a2b7479e"
   },
   "outputs": [],
   "source": [
    "!lib5c kr trimmed/pNPC_Rep2.counts kr/pNPC_Rep2.counts"
   ]
  },
  {
   "cell_type": "markdown",
   "metadata": {
    "colab_type": "text",
    "id": "zAVSbQ2ZSVir"
   },
   "source": [
    "`lib5c kr` specifies that the specific subcommand we want is `kr`, the\n",
    "subcommand for Knight-Ruiz balancing. To see all the available subcommands, you\n",
    "can run"
   ]
  },
  {
   "cell_type": "code",
   "execution_count": null,
   "metadata": {
    "colab": {
     "base_uri": "https://localhost:8080/",
     "height": 493
    },
    "colab_type": "code",
    "id": "C0WcnZ3cSdRK",
    "outputId": "e8c17915-4887-4137-dc69-1ab8d27b642b"
   },
   "outputs": [],
   "source": [
    "!lib5c -h"
   ]
  },
  {
   "cell_type": "markdown",
   "metadata": {
    "colab_type": "text",
    "id": "povT05eYSecL"
   },
   "source": [
    "To see detailed help for the `kr` subcommand, you can run"
   ]
  },
  {
   "cell_type": "code",
   "execution_count": null,
   "metadata": {
    "colab": {
     "base_uri": "https://localhost:8080/",
     "height": 459
    },
    "colab_type": "code",
    "id": "hx6lzA-jSgmG",
    "outputId": "ff369b19-6808-44c0-c951-b14f9a684ebe"
   },
   "outputs": [],
   "source": [
    "!lib5c kr -h"
   ]
  },
  {
   "cell_type": "markdown",
   "metadata": {
    "colab_type": "text",
    "id": "bK7JzU5eSicu"
   },
   "source": [
    "The two required positional command line arguments for `lib5c kr` are\n",
    "`infile` (the countsfile we want to balance) and `outfile` (where to write\n",
    "the balanced countsfile)."
   ]
  },
  {
   "cell_type": "markdown",
   "metadata": {
    "colab_type": "text",
    "id": "khmQcrn7Stt4"
   },
   "source": [
    "### Processing multiple input files\n",
    "\n",
    "If we want to process a lot of countsfiles, we can use a pattern like this"
   ]
  },
  {
   "cell_type": "code",
   "execution_count": null,
   "metadata": {
    "colab": {
     "base_uri": "https://localhost:8080/",
     "height": 289
    },
    "colab_type": "code",
    "id": "IXkerlkWSxdJ",
    "outputId": "402f4877-a010-4e1f-ecc2-a25d01fd6b13"
   },
   "outputs": [],
   "source": [
    "!lib5c kr 'trimmed/*.counts' kr/%s.counts"
   ]
  },
  {
   "cell_type": "markdown",
   "metadata": {
    "colab_type": "text",
    "id": "OmN2syRySwyJ"
   },
   "source": [
    "Here instead of a single `infile`, we have put in a glob-expandable pattern\n",
    "that will match all the countsfiles in the `input` directory. We have to quote\n",
    "this pattern to prevent the shell from expanding it. If we are processing\n",
    "multiple input countsfiles, then we expect multiple countsfiles as the output.\n",
    "To specify this easily, we include `%s` in the `outfile`, which will be\n",
    "replaced with the replicate name (derived automatically from the input\n",
    "filenames).\n",
    "\n",
    "If you're running this in a cluster environment with the LSF (aka `bsub`) job\n",
    "scheduler available, you can install the `bsub` Python package via\n",
    "\n",
    "    $ pip install bsub\n",
    "\n",
    "and then all the input files will be processed in parallel via `bsub`.\n",
    "\n",
    "If you aren't using the LSF job scheduler, you can still specify multiple input\n",
    "files, but they will be processed in series."
   ]
  },
  {
   "cell_type": "markdown",
   "metadata": {
    "colab_type": "text",
    "id": "MCLCDbsaS-KY"
   },
   "source": [
    "Plotting heatmaps\n",
    "-----------------\n",
    "\n",
    "Let's take a look at the countsfiles we just generated.\n",
    "\n",
    "One way to visualize countsfiles is to plot heatmaps of them. To do this, we can\n",
    "run"
   ]
  },
  {
   "cell_type": "code",
   "execution_count": null,
   "metadata": {
    "colab": {
     "base_uri": "https://localhost:8080/",
     "height": 68
    },
    "colab_type": "code",
    "id": "5gdULSoMTAXD",
    "outputId": "b0232af4-2b8e-4ba7-e53e-d929e574117b"
   },
   "outputs": [],
   "source": [
    "!lib5c plot heatmap -p trimmed/primers_trimmed.bed --region Sox2 kr/pNPC_Rep2.counts kr/pNPC_Rep2_Sox2.png"
   ]
  },
  {
   "cell_type": "markdown",
   "metadata": {
    "colab_type": "text",
    "id": "plniOdxPTK2B"
   },
   "source": [
    "The resulting image should look something like this"
   ]
  },
  {
   "cell_type": "code",
   "execution_count": null,
   "metadata": {
    "colab": {
     "base_uri": "https://localhost:8080/",
     "height": 417
    },
    "colab_type": "code",
    "id": "Yl6zQ75nTTSc",
    "outputId": "21c89c4e-256c-4b7a-8c8b-60ee942d4216"
   },
   "outputs": [],
   "source": [
    "from IPython.display import Image\n",
    "Image(filename='kr/pNPC_Rep2_Sox2.png', width=400)"
   ]
  },
  {
   "cell_type": "markdown",
   "metadata": {
    "colab_type": "text",
    "id": "CtNGMpqkTPej"
   },
   "source": [
    "The `lib5c plot heatmap` subcommand is a lot like the `lib5c kr` subcommand.\n",
    "In fact, most `lib5c` subcommands work in almost exactly the same way, so\n",
    "learning to use one can help you understand the others."
   ]
  },
  {
   "cell_type": "markdown",
   "metadata": {
    "colab_type": "text",
    "id": "rzL4iBewTc-f"
   },
   "source": [
    "### Specifying a primerfile/binfile with `-p/--primerfile`\n",
    "\n",
    "\n",
    "Almost every `lib5c` subcommand that takes countsfiles as its input also\n",
    "requires a primerfile or a bedfile that it uses to make sure the countsfiles get\n",
    "parsed correctly. This is accomplished with the `-p` flag. We didn't have to\n",
    "use the `-p` flag in the `lib5c kr` example above because the primerfile we\n",
    "wanted to use was already in the same directory as the countsfiles, so `lib5c`\n",
    "was able to find it automatically. In general though, we might be trying to\n",
    "process countsfiles that are separated (directory-wise) from the primerfile that\n",
    "describes their genomic loci, in which case we would have to use the `-p` flag\n",
    "as shown above."
   ]
  },
  {
   "cell_type": "markdown",
   "metadata": {
    "colab_type": "text",
    "id": "hO0OcQZaTsFc"
   },
   "source": [
    "### Multiple output files (one per region)\n",
    "\n",
    "Some `lib5c` subcommands generate multiple output files (typically one per region). To create\n",
    "an output file for only one region, use the `--region` (shorter form `-r`)\n",
    "as shown above. Alternatively, if we want to generate output for all regions, we\n",
    "can skip the `-r/--region` flag and include a `%r` in the `outfile`\n",
    "instead, which will be replaced with the region name. Combining this with the\n",
    "\"multiple input files\" idea from above, we can write something like"
   ]
  },
  {
   "cell_type": "code",
   "execution_count": null,
   "metadata": {
    "colab": {
     "base_uri": "https://localhost:8080/",
     "height": 289
    },
    "colab_type": "code",
    "id": "TRSsEpekT_px",
    "outputId": "69a4a6fd-df6e-457c-8d9c-30e6bd7e3a08"
   },
   "outputs": [],
   "source": [
    "!lib5c plot heatmap -p trimmed/primers_trimmed.bed 'kr/*.counts' kr/%s_%r.png"
   ]
  },
  {
   "cell_type": "markdown",
   "metadata": {
    "colab_type": "text",
    "id": "L59oXM5QUDKe"
   },
   "source": [
    "Binning\n",
    "-------\n",
    "\n",
    "Let's bin our Knight-Ruiz balanced data!\n",
    "\n",
    "Before we do this, we need to generate some bins to tile our 5C regions. To make 8 kb wide bins, we run"
   ]
  },
  {
   "cell_type": "code",
   "execution_count": null,
   "metadata": {
    "colab": {},
    "colab_type": "code",
    "id": "FYdDtyQlUE8Z"
   },
   "outputs": [],
   "source": [
    "!lib5c determine-bins -w 8000 trimmed/primers_trimmed.bed bedfiles/8kb_bins.bed"
   ]
  },
  {
   "cell_type": "markdown",
   "metadata": {
    "colab_type": "text",
    "id": "LZUjIiN3UFwd"
   },
   "source": [
    "The `-w/--bin_width` flag specifies the width of each bin in base pairs, and\n",
    "`bedfiles/8kb_bins.bed` specifies the name of the newly-created bin bedfile.\n",
    "\n",
    "Now that we have a bin bedfile describing the bins, we can figure out what the\n",
    "counts values for each bin should be by running"
   ]
  },
  {
   "cell_type": "code",
   "execution_count": null,
   "metadata": {
    "colab": {},
    "colab_type": "code",
    "id": "CmNUq0N3UKd9"
   },
   "outputs": [],
   "source": [
    "!lib5c bin -w 24000 -p trimmed/primers_trimmed.bed -b bedfiles/8kb_bins.bed kr/pNPC_Rep2.counts binned/pNPC_Rep2.counts"
   ]
  },
  {
   "cell_type": "markdown",
   "metadata": {
    "colab_type": "text",
    "id": "8wgrLji_UPG6"
   },
   "source": [
    "Notice that the `lib5c bin` subcommand needs both a primerfile (specified with\n",
    "`-p`) and a bin bedfile (specified with `-b`). It needs the primerfile to\n",
    "parse the input files, but it also needs a bin bedfile to know where the bins\n",
    "should be and to write the output files. The last two arguments are just the\n",
    "input file and the output file, just like in the previous subcommands.\n",
    "\n",
    "We can plot a heatmap of our binned data by running"
   ]
  },
  {
   "cell_type": "code",
   "execution_count": null,
   "metadata": {
    "colab": {
     "base_uri": "https://localhost:8080/",
     "height": 68
    },
    "colab_type": "code",
    "id": "lnHsu0_PUVsM",
    "outputId": "b536ce60-a14b-451d-d1e8-0fa1244753aa"
   },
   "outputs": [],
   "source": [
    "!lib5c plot heatmap -p bedfiles/8kb_bins.bed -r Sox2 -R -g mm9 binned/pNPC_Rep2.counts binned/pNPC_Rep2_Sox2.png"
   ]
  },
  {
   "cell_type": "markdown",
   "metadata": {
    "colab_type": "text",
    "id": "SrstJiOBUbUt"
   },
   "source": [
    "The result should look something like this"
   ]
  },
  {
   "cell_type": "code",
   "execution_count": null,
   "metadata": {
    "colab": {
     "base_uri": "https://localhost:8080/",
     "height": 534
    },
    "colab_type": "code",
    "id": "nii0pvHSUb-g",
    "outputId": "e4f5385c-0c53-4f0b-ff1e-83a91bf33755"
   },
   "outputs": [],
   "source": [
    "Image(filename='binned/pNPC_Rep2_Sox2.png', width=500)"
   ]
  },
  {
   "cell_type": "markdown",
   "metadata": {
    "colab_type": "text",
    "id": "R9KNzt6xXAis"
   },
   "source": [
    "Expected modeling\n",
    "-----------------\n",
    "\n",
    "In order to identify \"enriched\" interactions in our freshly-binned data, we\n",
    "first need to answer the question: \"Enriched with respect to what?\" The answer\n",
    "to this question is an expected model, which represents our understanding of\n",
    "what we would expect the interaction frequency between any two bins to be. This\n",
    "expected value depends both on the linear genomic separation between the bins,\n",
    "as well as the effects of local contact domain structure.\n",
    "\n",
    "We can generate an expected model by running"
   ]
  },
  {
   "cell_type": "code",
   "execution_count": null,
   "metadata": {
    "colab": {
     "base_uri": "https://localhost:8080/",
     "height": 119
    },
    "colab_type": "code",
    "id": "YV41hWppVjiH",
    "outputId": "a6da9bec-cfe4-45b3-a61b-e3f6ac902e9c"
   },
   "outputs": [],
   "source": [
    "!lib5c expected -p bedfiles/8kb_bins.bed -RED binned/pNPC_Rep2.counts expected/pNPC_Rep2.counts"
   ]
  },
  {
   "cell_type": "markdown",
   "metadata": {
    "colab_type": "text",
    "id": "d3DW8T3LXIVX"
   },
   "source": [
    "Note that for consistency, the flag used to specify the bin bedfile\n",
    "`bedfiles/4kb_bins.bed` is still `-p`. Most `lib5c` subcommands work on\n",
    "both fragment-level and bin-level data, with essentially no changes to the\n",
    "parameters.\n",
    "\n",
    "We are using the `-R/--regression`, `-E/--exclude_near_diagonal` and\n",
    "`-D/--donut_correction` flags to indicate that we want to start with a\n",
    "regional expected model fitted with a simple log-log regression which ignores\n",
    "points too close to the diagonal, and then apply donut correction to account for\n",
    "local variations in contact domain structure."
   ]
  },
  {
   "cell_type": "markdown",
   "metadata": {
    "colab_type": "text",
    "id": "0oEYiulIYSCz"
   },
   "source": [
    "Variance modeling\n",
    "-----------------\n",
    "\n",
    "Armed with an expected model, we can now readily identify which pairs of bins\n",
    "interact more frequently than expected. However, what we really want to know is\n",
    "which pairs of bins interact *significantly* more frequently than expected. In\n",
    "order to understand the extent of insignificant, noise-driven variations at each\n",
    "point, we need to construct a variance model - a statistical variance estimate\n",
    "for each pair of bins.\n",
    "\n",
    "We can generate a variance model by running"
   ]
  },
  {
   "cell_type": "code",
   "execution_count": null,
   "metadata": {
    "colab": {
     "base_uri": "https://localhost:8080/",
     "height": 68
    },
    "colab_type": "code",
    "id": "YbO4nRWGXXp-",
    "outputId": "dd89f8ca-7927-4503-b96a-28ea290bd112"
   },
   "outputs": [],
   "source": [
    "!lib5c variance -p bedfiles/8kb_bins.bed binned/pNPC_Rep2.counts expected/pNPC_Rep2.counts variance/pNPC_Rep2.counts"
   ]
  },
  {
   "cell_type": "markdown",
   "metadata": {
    "colab_type": "text",
    "id": "XYPhqUNvYY7S"
   },
   "source": [
    "By default, this will fit a log-normal deviation-based distance-variance relationship to\n",
    "the observed data."
   ]
  },
  {
   "cell_type": "markdown",
   "metadata": {
    "colab_type": "text",
    "id": "90k1nRnAYePR"
   },
   "source": [
    "P-value calling\n",
    "---------------\n",
    "\n",
    "Finally, we will call p-values for the interactions in our dataset"
   ]
  },
  {
   "cell_type": "code",
   "execution_count": null,
   "metadata": {
    "colab": {
     "base_uri": "https://localhost:8080/",
     "height": 85
    },
    "colab_type": "code",
    "id": "7NhcVcwYYXtl",
    "outputId": "046a4843-e1d6-433a-c82e-d6a993e88d58"
   },
   "outputs": [],
   "source": [
    "!lib5c pvalues -p bedfiles/8kb_bins.bed binned/pNPC_Rep2.counts expected/pNPC_Rep2.counts variance/pNPC_Rep2.counts -L norm pvalues/pNPC_Rep2.counts"
   ]
  },
  {
   "cell_type": "markdown",
   "metadata": {
    "colab_type": "text",
    "id": "VrClSwmQYkFs"
   },
   "source": [
    "Calling p-values simply parametrizes a distribution of a specified family (here\n",
    "we chose `-L norm` for the lognormal distribution) with mean value taken from\n",
    "the expected model and variance taken from the variance model, and then calls a\n",
    "right-tail p-value for the observed value in the binned data."
   ]
  },
  {
   "cell_type": "markdown",
   "metadata": {
    "colab_type": "text",
    "id": "1SaBce62YnzU"
   },
   "source": [
    "### P-value heatmaps\n",
    "\n",
    "\n",
    "To visualize p-values, we can use the `lib5c plot heatmap` subcommand as\n",
    "above, but we need to invoke it like"
   ]
  },
  {
   "cell_type": "code",
   "execution_count": null,
   "metadata": {
    "colab": {
     "base_uri": "https://localhost:8080/",
     "height": 68
    },
    "colab_type": "code",
    "id": "j5gZTrpKYin4",
    "outputId": "ffa2f2c8-7256-4ed0-90bc-6c2658007144"
   },
   "outputs": [],
   "source": [
    "!lib5c plot heatmap -p bedfiles/8kb_bins.bed -r Sox2 -PR -g mm9 pvalues/pNPC_Rep2.counts pvalues/pNPC_Rep2_Sox2.png"
   ]
  },
  {
   "cell_type": "markdown",
   "metadata": {
    "colab_type": "text",
    "id": "OPSDV-eGYwKs"
   },
   "source": [
    "Here we are using the `-P/--pvalue` flag to indicate that we are trying to\n",
    "visualize p-values, the `-R/--rulers` flag to indicate that we want to add\n",
    "genomic coordinate rulers to the heatmap, and the `-g/--genes` flag to\n",
    "indicate that we want to add gene tracks from the mm9 reference genome.\n",
    "\n",
    "The results should look something like this:"
   ]
  },
  {
   "cell_type": "code",
   "execution_count": null,
   "metadata": {
    "colab": {
     "base_uri": "https://localhost:8080/",
     "height": 534
    },
    "colab_type": "code",
    "id": "FCtHsKmWYutI",
    "outputId": "6ade3aef-c044-4975-d030-151f7865333b"
   },
   "outputs": [],
   "source": [
    "Image(filename='pvalues/pNPC_Rep2_Sox2.png', width=500)"
   ]
  },
  {
   "cell_type": "markdown",
   "metadata": {
    "colab_type": "text",
    "id": "n7Z_8KroY6F0"
   },
   "source": [
    "Next steps\n",
    "----------\n",
    "\n",
    "Go ahead and explore the other `lib5c` subcommands! Remember that you can list\n",
    "all the subcommands and get detailed help for a particular subcommand with the\n",
    "`-h/--help` flag."
   ]
  }
 ],
 "metadata": {
  "colab": {
   "collapsed_sections": [],
   "name": "commandline_tutorial.ipynb",
   "provenance": [],
   "version": "0.3.2"
  },
  "kernel_info": {
   "name": "python2"
  },
  "kernelspec": {
   "display_name": "Python 2",
   "language": "python",
   "name": "python2"
  },
  "language_info": {
   "codemirror_mode": {
    "name": "ipython",
    "version": 2
   },
   "file_extension": ".py",
   "mimetype": "text/x-python",
   "name": "python",
   "nbconvert_exporter": "python",
   "pygments_lexer": "ipython2",
   "version": "2.7.12"
  },
  "nteract": {
   "version": "0.11.9"
  }
 },
 "nbformat": 4,
 "nbformat_minor": 1
}
