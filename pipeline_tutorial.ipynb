{
  "cells": [
    {
      "cell_type": "markdown",
      "source": [
        "Pipeline tutorial\n",
        "=================\n",
        "\nThis tutorial will walk you through the basic usage of the `lib5c` pipeline."
      ],
      "metadata": {
        "id": "bJr1974s0_bL",
        "colab_type": "text"
      }
    },
    {
      "cell_type": "markdown",
      "source": [
        "Follow along in Google colab\n",
        "-----------------\n",
        "\n",
        "You can run and modify the cells in this notebook tutorial live using Google colaboratory by clicking the link below:\n",
        "\n",
        "[![Open In Colab](https://colab.research.google.com/assets/colab-badge.svg)](https://colab.research.google.com/github/thomasgilgenast/lib5c-tutorials/blob/master/pipeline-tutorial.ipynb)\n",
        "\nTo simply have all the cells run automatically, click `Runtime > Run all` in the colab toolbar."
      ],
      "metadata": {
        "id": "hpSv5a8cqoHm",
        "colab_type": "text"
      }
    },
    {
      "cell_type": "markdown",
      "source": [
        "Make sure `lib5c` is installed\n",
        "------------------------------\n",
        "\nInside a fresh virtual environment, run"
      ],
      "metadata": {
        "id": "C5Sv6WOgKc5N",
        "colab_type": "text"
      }
    },
    {
      "cell_type": "code",
      "source": [
        "!pip install lib5c"
      ],
      "outputs": [],
      "execution_count": null,
      "metadata": {
        "id": "Ba62CqeKKcD3",
        "colab_type": "code",
        "colab": {
          "base_uri": "https://localhost:8080/",
          "height": 581
        },
        "outputId": "ebf4a24c-2112-4bf8-e36e-e1a61a31bfc3"
      }
    },
    {
      "cell_type": "markdown",
      "source": [
        "Make a directory\n",
        "----------------\n",
        "\n",
        "Create a directory for this pipeline and change into it\n",
        "\n",
        "```\n",
        "$ mkdir lib5c-tutorial\n",
        "$ cd lib5c-tutorial\n",
        "```\n"
      ],
      "metadata": {
        "id": "ZPYITnH91Jqx",
        "colab_type": "text"
      }
    },
    {
      "cell_type": "markdown",
      "source": [
        "Get data\n",
        "--------\n",
        "\n",
        "First, download some data from GEO. For this tutorial, we will use the 5C data\n",
        "set from [GEO Series GSE68582](http://www.ncbi.nlm.nih.gov/geo/query/acc.cgi?acc=GSE68582).\n",
        "\n",
        "The specific files we will need are:\n",
        "\n",
        "* A [primerfile](http://www.ncbi.nlm.nih.gov/geo/download/?acc=GSE68582&format=file&file=GSE68582%5FBED%5FES%2DNPC%2DiPS%2DLOCI%5Fmm9%2Ebed%2Egz)\n",
        "  describing the fragments in the 5C assay.\n",
        "* Four raw countsfiles containing the results of two replicates each of two\n",
        "  conditions (v65 and pNPC):\n",
        "\n",
        "  * [v65 Rep 1](http://www.ncbi.nlm.nih.gov/geo/download/?acc=GSM1974095&format=file&file=GSM1974095%5Fv65%5FRep1%2Ecounts%2Etxt%2Egz)\n",
        "  * [v65 Rep 2](http://www.ncbi.nlm.nih.gov/geo/download/?acc=GSM1974096&format=file&file=GSM1974096%5Fv65%5FRep2%2Ecounts%2Etxt%2Egz)\n",
        "  * [pNPC Rep 1](http://www.ncbi.nlm.nih.gov/geo/download/?acc=GSM1974099&format=file&file=GSM1974099%5FpNPC%5FRep1%2Ecounts%2Etxt%2Egz)\n",
        "  * [pNPC Rep 2](http://www.ncbi.nlm.nih.gov/geo/download/?acc=GSM1974100&format=file&file=GSM1974100%5FpNPC%5FRep2%2Ecounts%2Etxt%2Egz)\n",
        "\n",
        "Download the five files using the links above, then unzip them into a new\n",
        "directory, `lib5c-tutorial/input`. Finally, strip all of the `.txt`\n",
        "extensions and GEO identifiers for brevity. If you use the `bash` shell, you\n",
        "can do all of this by running the following commands:"
      ],
      "metadata": {
        "id": "nwWszTjr1dcw",
        "colab_type": "text"
      }
    },
    {
      "cell_type": "code",
      "source": [
        "!mkdir input\n",
        "!wget -qO- 'http://www.ncbi.nlm.nih.gov/geo/download/?acc=GSE68582&format=file&file=GSE68582%5FBED%5FES%2DNPC%2DiPS%2DLOCI%5Fmm9%2Ebed%2Egz' | gunzip -c > input/BED_ES-NPC-iPS-LOCI_mm9.bed\n",
        "!wget -qO- 'http://www.ncbi.nlm.nih.gov/geo/download/?acc=GSM1974095&format=file&file=GSM1974095%5Fv65%5FRep1%2Ecounts%2Etxt%2Egz' | gunzip -c > input/v65_Rep1.counts\n",
        "!wget -qO- 'http://www.ncbi.nlm.nih.gov/geo/download/?acc=GSM1974096&format=file&file=GSM1974096%5Fv65%5FRep2%2Ecounts%2Etxt%2Egz' | gunzip -c > input/v65_Rep2.counts\n",
        "!wget -qO- 'http://www.ncbi.nlm.nih.gov/geo/download/?acc=GSM1974099&format=file&file=GSM1974099%5FpNPC%5FRep1%2Ecounts%2Etxt%2Egz' | gunzip -c > input/pNPC_Rep1.counts\n",
        "!wget -qO- 'http://www.ncbi.nlm.nih.gov/geo/download/?acc=GSM1974100&format=file&file=GSM1974100%5FpNPC%5FRep2%2Ecounts%2Etxt%2Egz' | gunzip -c > input/pNPC_Rep2.counts"
      ],
      "outputs": [],
      "execution_count": null,
      "metadata": {
        "id": "ghQDDhUzzO0l",
        "colab_type": "code",
        "colab": {}
      }
    },
    {
      "cell_type": "markdown",
      "source": [
        "or you can download, unzip, and rename them manually. After renaming, the\n",
        "``lib5c-tutorial/input`` directory should contain the following files:\n",
        "\n",
        "* ``BED_ES-NPC-iPS-LOCI_mm9.bed``\n",
        "* ``v65_Rep1.counts``\n",
        "* ``v65_Rep2.counts``\n",
        "* ``pNPC_Rep1.counts``\n",
        "* ``pNPC_Rep2.counts``"
      ],
      "metadata": {
        "id": "0H3XRLCF2MSf",
        "colab_type": "text"
      }
    },
    {
      "cell_type": "markdown",
      "source": [
        "Note for Docker image users\n",
        "---------------------------\n",
        "\n",
        "If you are using `lib5c` from the Docker image, run\n",
        "\n",
        "    $ docker run -it -v <full path to lib5c-tutorial>:/lib5c-tutorial creminslab/lib5c:latest\n",
        "    root@<container_id>:/# cd /lib5c-tutorial\n",
        "\nand continue running all tutorial commands in this shell."
      ],
      "metadata": {
        "id": "svy5D9-S2kti",
        "colab_type": "text"
      }
    },
    {
      "cell_type": "markdown",
      "source": [
        "Get the default config file\n",
        "---------------------------\n",
        "\n",
        "From inside `lib5c-tutorial`, run `lib5c pipeline` to drop the example\n",
        "pipeline configuration file, `luigi.cfg`."
      ],
      "metadata": {
        "id": "bnGNuIG02qrY",
        "colab_type": "text"
      }
    },
    {
      "cell_type": "code",
      "source": [
        "!lib5c pipeline"
      ],
      "outputs": [],
      "execution_count": null,
      "metadata": {
        "id": "hVIqyIMlzXTu",
        "colab_type": "code",
        "colab": {
          "base_uri": "https://localhost:8080/",
          "height": 51
        },
        "outputId": "2f931059-2922-41fc-e240-b1a70fb53453"
      }
    },
    {
      "cell_type": "markdown",
      "source": [
        "The behavior of the entire pipeline is controlled using this one configuration\n",
        "file."
      ],
      "metadata": {
        "id": "7PpbH0Ih2vR4",
        "colab_type": "text"
      }
    },
    {
      "cell_type": "markdown",
      "source": [
        "Edit the config file\n",
        "--------------------\n",
        "\n",
        "Open `luigi.cfg` in your favorite text editor and take a look inside.\n",
        "\n",
        "The config file is organized into blocks that start with a header and then\n",
        "define some config variables.\n",
        "\n",
        "The first block is the `[PipelineTask]` block, which lists the pipelines to be\n",
        "run in a list called `tasks`, the entries of which look like directories.\n",
        "These are in fact the directory structures into which the outputs will be\n",
        "written. The folder names in the directory path correspond to individual steps\n",
        "of the pipeline, as described in the `table` mapping, which has the general\n",
        "format\n",
        "\n",
        "    \"folder_name\": [\"step_name\", {non_default_parameters}]\n",
        "\n",
        "The same step can be defined with different parameters, as long as the output\n",
        "folder names are distinguishable; for example, the section\n",
        "\n",
        "    ...\n",
        "    \"bin_gmean_16_4\": [\"MakeBinned\", {}],\n",
        "    \"bin_amean_20_8\": [\"MakeBinned\", {\"window_function\": \"amean\",\n",
        "                                      \"bin_width\": 8000,\n",
        "                                      \"window_width\": 20000}],\n",
        "    ...\n",
        "\n",
        "shows two different parameter choices for the binning step.\n",
        "\n",
        "The second block is the `[RawCounts]` block, which specifies where the input\n",
        "countsfiles are located on the disk and gives them replicate names.\n",
        "\n",
        "The third block is the `[PrimerFile]` block, which specifies where to find the\n",
        "primerfile on the disk.\n",
        "\n",
        "The remaining sections expose the default parameters for each step (e.g.,\n",
        "`[MakeBinned]` describes the default binning step parameters).\n",
        "\n",
        "For this tutorial, you can leave the `[PipelineTask]` block unchanged.\n",
        "\n",
        "However, we need to fill in the `[RawCounts]` and `[PrimerFile]` blocks\n",
        "with the paths to the data files we downloaded. For example:\n",
        "\n",
        "    [RawCounts]\n",
        "    countsfiles={\n",
        "      \"ES_Rep1\": \"input/v65_Rep1.counts\",\n",
        "      \"ES_Rep2\": \"input/v65_Rep2.counts\",\n",
        "      \"pNPC_Rep1\": \"input/pNPC_Rep1.counts\",\n",
        "      \"pNPC_Rep2\": \"input/pNPC_Rep2.counts\"\n",
        "      }\n",
        "\n",
        "    [PrimerFile]\n",
        "    primerfile=input/BED_ES-NPC-iPS-LOCI_mm9.bed\n",
        "\n",
        "The config parser is somewhat sensitive to indentation, so match this carefully.\n",
        "\n",
        "The replicate names are the keys of the `countsfiles` dictionary. You can set\n",
        "them to anything you like; however, the \"conditions\" (for the purposes of\n",
        "classifying condition-specific interactions) as defined in the `conditions`\n",
        "comma-separated list under the `[MakeThreshold]` block near the bottom of the\n",
        "config file must be substrings of the replicate names. For convenience, by\n",
        "default `conditions=ES,pNPC` which matches the replicate names we have chosen\n",
        "above, but when you do your own analyses you may need to change this."
      ],
      "metadata": {
        "id": "-Zxf9xRx3kud",
        "colab_type": "text"
      }
    },
    {
      "cell_type": "code",
      "source": [
        "!sed -i 's/\"rep1\": \"path\\/to\\/rep1.counts\",/\"ES_Rep1\": \"input\\/v65_Rep1.counts\",\\n  \"ES_Rep2\": \"input\\/v65_Rep2.counts\",/g' luigi.cfg\n",
        "!sed -i 's/\"rep2\": \"path\\/to\\/rep2.counts\"/\"pNPC_Rep1\": \"input\\/pNPC_Rep1.counts\",\\n  \"pNPC_Rep2\": \"input\\/pNPC_Rep2.counts\"/g' luigi.cfg\n",
        "!sed -i 's/path\\/to\\/primerfile.bed/input\\/BED_ES-NPC-iPS-LOCI_mm9.bed/g' luigi.cfg"
      ],
      "outputs": [],
      "execution_count": null,
      "metadata": {
        "id": "B6noKsAS5RBl",
        "colab_type": "code",
        "colab": {}
      }
    },
    {
      "cell_type": "markdown",
      "source": [
        "Just to make the notebook run faster, we'll disable some of the automatic plot generation and focus on just two regions"
      ],
      "metadata": {
        "id": "nUNz5aQy-pi_",
        "colab_type": "text"
      }
    },
    {
      "cell_type": "code",
      "source": [
        "!sed -i '/plot_outfile=%d\\/expected-plots\\/%s_%r.png/d' luigi.cfg\n",
        "!sed -i 'N;s/outfile_pattern=%s_qnorm.counts\\nheatmap=True/outfile_pattern=%s_qnorm.counts\\nheatmap=False/g' luigi.cfg\n",
        "!sed -i 'N;s/outfile_pattern=%s_express.counts\\nheatmap=True/outfile_pattern=%s_express.counts\\nheatmap=False/g' luigi.cfg\n",
        "!sed -i '/Sox2\\|Klf4/!d' input/BED_ES-NPC-iPS-LOCI_mm9.bed"
      ],
      "outputs": [],
      "execution_count": null,
      "metadata": {
        "id": "fir50NQcD-6m",
        "colab_type": "code",
        "colab": {}
      }
    },
    {
      "cell_type": "markdown",
      "source": [
        "After specifying the input files, save the config file, then run"
      ],
      "metadata": {
        "id": "arRq6PVd7DAM",
        "colab_type": "text"
      }
    },
    {
      "cell_type": "code",
      "source": [
        "!lib5c pipeline"
      ],
      "outputs": [],
      "execution_count": null,
      "metadata": {
        "id": "yKJenY5K60wa",
        "colab_type": "code",
        "colab": {
          "base_uri": "https://localhost:8080/",
          "height": 2961
        },
        "outputId": "a6af96a4-2bd9-4d26-8bf8-63df8b702315"
      }
    },
    {
      "cell_type": "markdown",
      "source": [
        "a second time to run the pipeline.\n",
        "\n",
        "Once the pipeline completes, output files should be present in subfolders of the\n",
        "directory you ran the pipeline in. Look around and investigate the results of\n",
        "your analysis!\n",
        "\n",
        "The pipeline output is written into a tree of folders representing the stages of the pipeline. Each folder stores the data files for all replicates at that stage, as well as some optional heatmap visualizations for each replicate and region. We'll check out a few of them below.\n",
        "\nHere's the raw heatmap for the Sox2 region for pNPC2 Rep2:"
      ],
      "metadata": {
        "id": "3jlTEpvX7HMa",
        "colab_type": "text"
      }
    },
    {
      "cell_type": "code",
      "source": [
        "from IPython.display import Image\n",
        "Image(filename='./raw/pNPC_Rep2_raw_Sox2.png', width=400) "
      ],
      "outputs": [],
      "execution_count": null,
      "metadata": {
        "id": "c0xLDkupXxBC",
        "colab_type": "code",
        "colab": {
          "base_uri": "https://localhost:8080/",
          "height": 420
        },
        "outputId": "8e144f00-065f-4e75-a459-e874fea45bb1"
      }
    },
    {
      "cell_type": "markdown",
      "source": [
        "Here's the same rep and region after balancing and binning:"
      ],
      "metadata": {
        "id": "DTuCmySHYMGi",
        "colab_type": "text"
      }
    },
    {
      "cell_type": "code",
      "source": [
        "Image(filename='./raw/qnormed/jointexpress/bin_gmean_16_4/pNPC_Rep2_binned_Sox2.png', width=400) "
      ],
      "outputs": [],
      "execution_count": null,
      "metadata": {
        "id": "vIgKDjQxYPsv",
        "colab_type": "code",
        "colab": {
          "base_uri": "https://localhost:8080/",
          "height": 430
        },
        "outputId": "6d34f223-6595-4755-9fd0-d545b5c60d4b"
      }
    },
    {
      "cell_type": "markdown",
      "source": [
        "and after expected and variance modeling and p-value calling:"
      ],
      "metadata": {
        "id": "eiDoNYxDYrFi",
        "colab_type": "text"
      }
    },
    {
      "cell_type": "code",
      "source": [
        "Image(filename='./raw/qnormed/jointexpress/bin_gmean_16_4/expected_donut/variance/pvalues/pNPC_Rep2_pvalues_Sox2.png', width=400) "
      ],
      "outputs": [],
      "execution_count": null,
      "metadata": {
        "id": "0lZvzTMUYug3",
        "colab_type": "code",
        "colab": {
          "base_uri": "https://localhost:8080/",
          "height": 430
        },
        "outputId": "2d829f1f-0183-4a3b-e9ac-8d280e898839"
      }
    },
    {
      "cell_type": "markdown",
      "source": [
        "Finally, here are the final condition-specific cluster calls:"
      ],
      "metadata": {
        "id": "UjbQmJvtY053",
        "colab_type": "text"
      }
    },
    {
      "cell_type": "code",
      "source": [
        "Image(filename='./raw/qnormed/jointexpress/bin_gmean_16_4/expected_donut/variance/pvalues/threshold/classifications_Sox2.png', width=600) "
      ],
      "outputs": [],
      "execution_count": null,
      "metadata": {
        "id": "sEkJi31q_cJZ",
        "colab_type": "code",
        "colab": {
          "base_uri": "https://localhost:8080/",
          "height": 487
        },
        "outputId": "23171ffe-60e6-4ffb-b53a-b9a053861b8b"
      }
    }
  ],
  "metadata": {
    "colab": {
      "name": "pipeline_tutorial.ipynb",
      "version": "0.3.2",
      "provenance": [],
      "collapsed_sections": []
    },
    "kernelspec": {
      "name": "python2",
      "language": "python",
      "display_name": "Python 2"
    },
    "kernel_info": {
      "name": "python2"
    },
    "language_info": {
      "mimetype": "text/x-python",
      "nbconvert_exporter": "python",
      "name": "python",
      "pygments_lexer": "ipython2",
      "version": "2.7.12",
      "file_extension": ".py",
      "codemirror_mode": {
        "version": 2,
        "name": "ipython"
      }
    },
    "nteract": {
      "version": "0.11.9"
    }
  },
  "nbformat": 4,
  "nbformat_minor": 0
}