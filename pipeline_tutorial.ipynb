{
 "cells": [
  {
   "cell_type": "markdown",
   "metadata": {
    "colab_type": "text",
    "id": "bJr1974s0_bL"
   },
   "source": [
    "Pipeline tutorial\n",
    "=================\n",
    "\n",
    "This tutorial will walk you through the basic usage of the `lib5c` pipeline."
   ]
  },
  {
   "cell_type": "markdown",
   "metadata": {
    "colab_type": "text",
    "id": "hpSv5a8cqoHm"
   },
   "source": [
    "Follow along in Google colab\n",
    "-----------------\n",
    "\n",
    "You can run and modify the cells in this notebook tutorial live using Google colaboratory by clicking the link below:\n",
    "\n",
    "[![Open In Colab](https://colab.research.google.com/assets/colab-badge.svg)](https://colab.research.google.com/github/thomasgilgenast/lib5c-tutorials/blob/master/pipeline_tutorial.ipynb)\n",
    "\n",
    "To simply have all the cells run automatically, click `Runtime > Run all` in the colab toolbar."
   ]
  },
  {
   "cell_type": "markdown",
   "metadata": {
    "colab_type": "text",
    "id": "C5Sv6WOgKc5N"
   },
   "source": [
    "Make sure `lib5c` is installed\n",
    "------------------------------\n",
    "\n",
    "Inside a fresh virtual environment, run"
   ]
  },
  {
   "cell_type": "code",
   "execution_count": null,
   "metadata": {
    "colab": {
     "base_uri": "https://localhost:8080/",
     "height": 581
    },
    "colab_type": "code",
    "id": "Ba62CqeKKcD3",
    "outputId": "ebf4a24c-2112-4bf8-e36e-e1a61a31bfc3"
   },
   "outputs": [],
   "source": [
    "!pip install -q lib5c\n",
    "!lib5c -v"
   ]
  },
  {
   "cell_type": "markdown",
   "metadata": {
    "colab_type": "text",
    "id": "ZPYITnH91Jqx"
   },
   "source": [
    "Make a directory\n",
    "----------------\n",
    "\n",
    "Create a directory for this pipeline and change into it\n",
    "\n",
    "```\n",
    "$ mkdir lib5c-tutorial\n",
    "$ cd lib5c-tutorial\n",
    "```\n"
   ]
  },
  {
   "cell_type": "markdown",
   "metadata": {
    "colab_type": "text",
    "id": "nwWszTjr1dcw"
   },
   "source": [
    "Get data\n",
    "--------\n",
    "\n",
    "First, download some data from GEO. For this tutorial, we will use the 5C data\n",
    "set from [GEO Series GSE68582](http://www.ncbi.nlm.nih.gov/geo/query/acc.cgi?acc=GSE68582).\n",
    "\n",
    "The specific files we will need are:\n",
    "\n",
    "* A [primerfile](http://www.ncbi.nlm.nih.gov/geo/download/?acc=GSE68582&format=file&file=GSE68582%5FBED%5FES%2DNPC%2DiPS%2DLOCI%5Fmm9%2Ebed%2Egz)\n",
    "  describing the fragments in the 5C assay.\n",
    "* Four raw countsfiles containing the results of two replicates each of two\n",
    "  conditions (v65 and pNPC):\n",
    "\n",
    "  * [v65 Rep 1](http://www.ncbi.nlm.nih.gov/geo/download/?acc=GSM1974095&format=file&file=GSM1974095%5Fv65%5FRep1%2Ecounts%2Etxt%2Egz)\n",
    "  * [v65 Rep 2](http://www.ncbi.nlm.nih.gov/geo/download/?acc=GSM1974096&format=file&file=GSM1974096%5Fv65%5FRep2%2Ecounts%2Etxt%2Egz)\n",
    "  * [pNPC Rep 1](http://www.ncbi.nlm.nih.gov/geo/download/?acc=GSM1974099&format=file&file=GSM1974099%5FpNPC%5FRep1%2Ecounts%2Etxt%2Egz)\n",
    "  * [pNPC Rep 2](http://www.ncbi.nlm.nih.gov/geo/download/?acc=GSM1974100&format=file&file=GSM1974100%5FpNPC%5FRep2%2Ecounts%2Etxt%2Egz)\n",
    "\n",
    "Download the five files using the links above, then unzip them into a new\n",
    "directory, `lib5c-tutorial/input`. Finally, strip all of the `.txt`\n",
    "extensions and GEO identifiers for brevity. If you use the `bash` shell, you\n",
    "can do all of this by running the following commands:"
   ]
  },
  {
   "cell_type": "code",
   "execution_count": null,
   "metadata": {
    "colab": {},
    "colab_type": "code",
    "id": "ghQDDhUzzO0l"
   },
   "outputs": [],
   "source": [
    "!mkdir -p input\n",
    "!wget -qO- 'http://www.ncbi.nlm.nih.gov/geo/download/?acc=GSE68582&format=file&file=GSE68582%5FBED%5FES%2DNPC%2DiPS%2DLOCI%5Fmm9%2Ebed%2Egz' \\\n",
    "    | gunzip -c > input/BED_ES-NPC-iPS-LOCI_mm9.bed\n",
    "!wget -qO- 'http://www.ncbi.nlm.nih.gov/geo/download/?acc=GSM1974095&format=file&file=GSM1974095%5Fv65%5FRep1%2Ecounts%2Etxt%2Egz' \\\n",
    "    | gunzip -c > input/v65_Rep1.counts\n",
    "!wget -qO- 'http://www.ncbi.nlm.nih.gov/geo/download/?acc=GSM1974096&format=file&file=GSM1974096%5Fv65%5FRep2%2Ecounts%2Etxt%2Egz' \\\n",
    "    | gunzip -c > input/v65_Rep2.counts\n",
    "!wget -qO- 'http://www.ncbi.nlm.nih.gov/geo/download/?acc=GSM1974099&format=file&file=GSM1974099%5FpNPC%5FRep1%2Ecounts%2Etxt%2Egz' \\\n",
    "    | gunzip -c > input/pNPC_Rep1.counts\n",
    "!wget -qO- 'http://www.ncbi.nlm.nih.gov/geo/download/?acc=GSM1974100&format=file&file=GSM1974100%5FpNPC%5FRep2%2Ecounts%2Etxt%2Egz' \\\n",
    "    | gunzip -c > input/pNPC_Rep2.counts\n",
    "!sed -i '/Sox2\\|Klf4/!d' input/BED_ES-NPC-iPS-LOCI_mm9.bed"
   ]
  },
  {
   "cell_type": "markdown",
   "metadata": {
    "colab_type": "text",
    "id": "0H3XRLCF2MSf"
   },
   "source": [
    "or you can download, unzip, and rename them manually. After renaming, the\n",
    "``lib5c-tutorial/input`` directory should contain the following files:\n",
    "\n",
    "* ``BED_ES-NPC-iPS-LOCI_mm9.bed``\n",
    "* ``v65_Rep1.counts``\n",
    "* ``v65_Rep2.counts``\n",
    "* ``pNPC_Rep1.counts``\n",
    "* ``pNPC_Rep2.counts``"
   ]
  },
  {
   "cell_type": "markdown",
   "metadata": {
    "colab_type": "text",
    "id": "svy5D9-S2kti"
   },
   "source": [
    "Note for Docker image users\n",
    "---------------------------\n",
    "\n",
    "If you are using `lib5c` from the Docker image, run\n",
    "\n",
    "    $ docker run -it -v <full path to lib5c-tutorial>:/lib5c-tutorial creminslab/lib5c:latest\n",
    "    root@<container_id>:/# cd /lib5c-tutorial\n",
    "\n",
    "and continue running all tutorial commands in this shell."
   ]
  },
  {
   "cell_type": "markdown",
   "metadata": {
    "colab_type": "text",
    "id": "bnGNuIG02qrY"
   },
   "source": [
    "Get the default config file\n",
    "---------------------------\n",
    "\n",
    "From inside `lib5c-tutorial`, run `lib5c pipeline` to drop the example\n",
    "pipeline configuration file, `luigi.cfg`."
   ]
  },
  {
   "cell_type": "code",
   "execution_count": null,
   "metadata": {
    "colab": {
     "base_uri": "https://localhost:8080/",
     "height": 51
    },
    "colab_type": "code",
    "id": "hVIqyIMlzXTu",
    "outputId": "2f931059-2922-41fc-e240-b1a70fb53453"
   },
   "outputs": [],
   "source": [
    "!lib5c pipeline"
   ]
  },
  {
   "cell_type": "markdown",
   "metadata": {
    "colab_type": "text",
    "id": "7PpbH0Ih2vR4"
   },
   "source": [
    "The behavior of the entire pipeline is controlled using this one configuration\n",
    "file."
   ]
  },
  {
   "cell_type": "markdown",
   "metadata": {
    "colab_type": "text",
    "id": "-Zxf9xRx3kud"
   },
   "source": [
    "Edit the config file\n",
    "--------------------\n",
    "\n",
    "Open `luigi.cfg` in your favorite text editor and take a look inside.\n",
    "\n",
    "The config file is organized into blocks that start with a header and then\n",
    "define some config variables.\n",
    "\n",
    "The first block is the `[PipelineTask]` block, which lists the pipelines to be\n",
    "run in a list called `tasks`, the entries of which look like directories.\n",
    "These are in fact the directory structures into which the outputs will be\n",
    "written. The folder names in the directory path correspond to individual steps\n",
    "of the pipeline, as described in the `table` mapping, which has the general\n",
    "format\n",
    "\n",
    "    \"folder_name\": [\"step_name\", {non_default_parameters}]\n",
    "\n",
    "The same step can be defined with different parameters, as long as the output\n",
    "folder names are distinguishable; for example, the section\n",
    "\n",
    "    ...\n",
    "    \"bin_gmean_16_4\": [\"MakeBinned\", {}],\n",
    "    \"bin_amean_20_8\": [\"MakeBinned\", {\"window_function\": \"amean\",\n",
    "                                      \"bin_width\": 8000,\n",
    "                                      \"window_width\": 20000}],\n",
    "    ...\n",
    "\n",
    "shows two different parameter choices for the binning step.\n",
    "\n",
    "The second block is the `[RawCounts]` block, which specifies where the input\n",
    "countsfiles are located on the disk and gives them replicate names.\n",
    "\n",
    "The third block is the `[PrimerFile]` block, which specifies where to find the\n",
    "primerfile on the disk.\n",
    "\n",
    "The remaining sections expose the default parameters for each step (e.g.,\n",
    "`[MakeBinned]` describes the default binning step parameters).\n",
    "\n",
    "For this tutorial, you can leave the `[PipelineTask]` block unchanged.\n",
    "\n",
    "However, we need to fill in the `[RawCounts]` and `[PrimerFile]` blocks\n",
    "with the paths to the data files we downloaded. For example:\n",
    "\n",
    "    [RawCounts]\n",
    "    countsfiles={\n",
    "      \"ES_Rep1\": \"input/v65_Rep1.counts\",\n",
    "      \"ES_Rep2\": \"input/v65_Rep2.counts\",\n",
    "      \"pNPC_Rep1\": \"input/pNPC_Rep1.counts\",\n",
    "      \"pNPC_Rep2\": \"input/pNPC_Rep2.counts\"\n",
    "      }\n",
    "\n",
    "    [PrimerFile]\n",
    "    primerfile=input/BED_ES-NPC-iPS-LOCI_mm9.bed\n",
    "\n",
    "The config parser is somewhat sensitive to indentation, so match this carefully.\n",
    "\n",
    "The replicate names are the keys of the `countsfiles` dictionary. You can set\n",
    "them to anything you like; however, the \"conditions\" (for the purposes of\n",
    "classifying condition-specific interactions) as defined in the `conditions`\n",
    "comma-separated list under the `[MakeThreshold]` block near the bottom of the\n",
    "config file must be substrings of the replicate names. For convenience, by\n",
    "default `conditions=ES,pNPC` which matches the replicate names we have chosen\n",
    "above, but when you do your own analyses you may need to change this."
   ]
  },
  {
   "cell_type": "code",
   "execution_count": null,
   "metadata": {
    "colab": {},
    "colab_type": "code",
    "id": "B6noKsAS5RBl"
   },
   "outputs": [],
   "source": [
    "!sed -i 's/\"rep1\": \"path\\/to\\/rep1.counts\",/\"ES_Rep1\": \"input\\/v65_Rep1.counts\",\\n  \"ES_Rep2\": \"input\\/v65_Rep2.counts\",/g' luigi.cfg\n",
    "!sed -i 's/\"rep2\": \"path\\/to\\/rep2.counts\"/\"pNPC_Rep1\": \"input\\/pNPC_Rep1.counts\",\\n  \"pNPC_Rep2\": \"input\\/pNPC_Rep2.counts\"/g' luigi.cfg\n",
    "!sed -i 's/path\\/to\\/primerfile.bed/input\\/BED_ES-NPC-iPS-LOCI_mm9.bed/g' luigi.cfg"
   ]
  },
  {
   "cell_type": "markdown",
   "metadata": {
    "colab_type": "text",
    "id": "nUNz5aQy-pi_"
   },
   "source": [
    "Just to make the notebook run faster, we'll disable some of the automatic plot generation, focus on just two regions, and use a larger bin size"
   ]
  },
  {
   "cell_type": "code",
   "execution_count": null,
   "metadata": {
    "colab": {},
    "colab_type": "code",
    "id": "fir50NQcD-6m"
   },
   "outputs": [],
   "source": [
    "!sed -i '/plot_outfile=%d\\/expected-plots\\/%s_%r.png/d' luigi.cfg\n",
    "!sed -i 'N;s/outfile_pattern=%s_qnorm.counts\\nheatmap=True/outfile_pattern=%s_qnorm.counts\\nheatmap=False/g' luigi.cfg\n",
    "!sed -i 'N;s/outfile_pattern=%s_express.counts\\nheatmap=True/outfile_pattern=%s_express.counts\\nheatmap=False/g' luigi.cfg\n",
    "!sed -i 's/\\/bin_gmean_16_4\\//\\/bin_gmean_20_8\\//g' luigi.cfg\n",
    "!sed -i '/Sox2\\|Klf4/!d' input/BED_ES-NPC-iPS-LOCI_mm9.bed"
   ]
  },
  {
   "cell_type": "markdown",
   "metadata": {
    "colab_type": "text",
    "id": "arRq6PVd7DAM"
   },
   "source": [
    "After specifying the input files, save the config file, then run"
   ]
  },
  {
   "cell_type": "code",
   "execution_count": null,
   "metadata": {
    "colab": {
     "base_uri": "https://localhost:8080/",
     "height": 2961
    },
    "colab_type": "code",
    "id": "yKJenY5K60wa",
    "outputId": "a6af96a4-2bd9-4d26-8bf8-63df8b702315"
   },
   "outputs": [],
   "source": [
    "!lib5c pipeline"
   ]
  },
  {
   "cell_type": "markdown",
   "metadata": {
    "colab_type": "text",
    "id": "3jlTEpvX7HMa"
   },
   "source": [
    "a second time to run the pipeline.\n",
    "\n",
    "Once the pipeline completes, output files should be present in subfolders of the\n",
    "directory you ran the pipeline in. Look around and investigate the results of\n",
    "your analysis!\n",
    "\n",
    "The pipeline output is written into a tree of folders representing the stages of the pipeline. Each folder stores the data files for all replicates at that stage, as well as some optional heatmap visualizations for each replicate and region. We'll check out a few of them below.\n",
    "\n",
    "Here's the raw heatmap for the Sox2 region for pNPC2 Rep2:"
   ]
  },
  {
   "cell_type": "code",
   "execution_count": null,
   "metadata": {
    "colab": {
     "base_uri": "https://localhost:8080/",
     "height": 420
    },
    "colab_type": "code",
    "id": "c0xLDkupXxBC",
    "outputId": "8e144f00-065f-4e75-a459-e874fea45bb1"
   },
   "outputs": [],
   "source": [
    "from IPython.display import Image\n",
    "Image(filename='./raw/pNPC_Rep2_raw_Sox2.png', width=400) "
   ]
  },
  {
   "cell_type": "markdown",
   "metadata": {
    "colab_type": "text",
    "id": "DTuCmySHYMGi"
   },
   "source": [
    "Here's the same rep and region after balancing and binning:"
   ]
  },
  {
   "cell_type": "code",
   "execution_count": null,
   "metadata": {
    "colab": {
     "base_uri": "https://localhost:8080/",
     "height": 430
    },
    "colab_type": "code",
    "id": "vIgKDjQxYPsv",
    "outputId": "6d34f223-6595-4755-9fd0-d545b5c60d4b"
   },
   "outputs": [],
   "source": [
    "Image(filename='./raw/qnormed/jointexpress/bin_gmean_20_8/pNPC_Rep2_binned_Sox2.png', width=400) "
   ]
  },
  {
   "cell_type": "markdown",
   "metadata": {
    "colab_type": "text",
    "id": "eiDoNYxDYrFi"
   },
   "source": [
    "and after expected and variance modeling and p-value calling:"
   ]
  },
  {
   "cell_type": "code",
   "execution_count": null,
   "metadata": {
    "colab": {
     "base_uri": "https://localhost:8080/",
     "height": 430
    },
    "colab_type": "code",
    "id": "0lZvzTMUYug3",
    "outputId": "2d829f1f-0183-4a3b-e9ac-8d280e898839"
   },
   "outputs": [],
   "source": [
    "Image(filename='./raw/qnormed/jointexpress/bin_gmean_20_8/expected_donut/variance/pvalues/pNPC_Rep2_pvalues_Sox2.png', width=400) "
   ]
  },
  {
   "cell_type": "markdown",
   "metadata": {
    "colab_type": "text",
    "id": "UjbQmJvtY053"
   },
   "source": [
    "Finally, here are the final condition-specific cluster calls:"
   ]
  },
  {
   "cell_type": "code",
   "execution_count": null,
   "metadata": {
    "colab": {
     "base_uri": "https://localhost:8080/",
     "height": 487
    },
    "colab_type": "code",
    "id": "sEkJi31q_cJZ",
    "outputId": "23171ffe-60e6-4ffb-b53a-b9a053861b8b"
   },
   "outputs": [],
   "source": [
    "Image(filename='./raw/qnormed/jointexpress/bin_gmean_20_8/expected_donut/variance/pvalues/threshold/classifications_Sox2.png', width=600) "
   ]
  }
 ],
 "metadata": {
  "colab": {
   "collapsed_sections": [],
   "name": "pipeline_tutorial.ipynb",
   "provenance": [],
   "version": "0.3.2"
  },
  "kernel_info": {
   "name": "python2"
  },
  "kernelspec": {
   "display_name": "Python 2",
   "language": "python",
   "name": "python2"
  },
  "language_info": {
   "codemirror_mode": {
    "name": "ipython",
    "version": 2
   },
   "file_extension": ".py",
   "mimetype": "text/x-python",
   "name": "python",
   "nbconvert_exporter": "python",
   "pygments_lexer": "ipython2",
   "version": "2.7.12"
  },
  "nteract": {
   "version": "0.11.9"
  }
 },
 "nbformat": 4,
 "nbformat_minor": 1
}
